{
  "nbformat": 4,
  "nbformat_minor": 0,
  "metadata": {
    "colab": {
      "name": "Scraping_HeroML.ipynb",
      "provenance": [],
      "authorship_tag": "ABX9TyM+Pa4QK6WOAdsA7+zReIEe",
      "include_colab_link": true
    },
    "kernelspec": {
      "name": "python3",
      "display_name": "Python 3"
    },
    "accelerator": "GPU"
  },
  "cells": [
    {
      "cell_type": "markdown",
      "metadata": {
        "id": "view-in-github",
        "colab_type": "text"
      },
      "source": [
        "<a href=\"https://colab.research.google.com/github/setyo-dwi-pratama/webscraping-python/blob/main/Scraping_HeroML.ipynb\" target=\"_parent\"><img src=\"https://colab.research.google.com/assets/colab-badge.svg\" alt=\"Open In Colab\"/></a>"
      ]
    },
    {
      "cell_type": "code",
      "metadata": {
        "id": "3t51G6kdmA-Q"
      },
      "source": [
        "from requests import get\r\n",
        "from bs4 import BeautifulSoup\r\n",
        "import pandas as pd"
      ],
      "execution_count": 66,
      "outputs": []
    },
    {
      "cell_type": "code",
      "metadata": {
        "id": "if5qlKYJqYCt"
      },
      "source": [
        "respone = get('https://mobile-legends.fandom.com/wiki/All_Heroes#Tank_')"
      ],
      "execution_count": 67,
      "outputs": []
    },
    {
      "cell_type": "code",
      "metadata": {
        "id": "iiRx-kA3_f3R"
      },
      "source": [
        "html = BeautifulSoup(respone.text, 'html.parser')"
      ],
      "execution_count": 68,
      "outputs": []
    },
    {
      "cell_type": "code",
      "metadata": {
        "colab": {
          "base_uri": "https://localhost:8080/"
        },
        "id": "4s8E5Ih4_lbY",
        "outputId": "4527a977-ea15-4126-f5a9-6bf3a388dc0f"
      },
      "source": [
        "html.div"
      ],
      "execution_count": 69,
      "outputs": [
        {
          "output_type": "execute_result",
          "data": {
            "text/plain": [
              "<div class=\"wds-global-navigation-wrapper\">\n",
              "<nav aria-label=\"Fandom navigation\" class=\"wds-global-navigation wds-search-is-always-visible \" id=\"globalNavigation\">\n",
              "<div class=\"wds-global-navigation__content-bar-left\">\n",
              "<a aria-label=\"Fandom homepage\" class=\"wds-global-navigation__logo\" data-tracking-label=\"logo\" href=\"https://www.fandom.com/\">\n",
              "<svg class=\"wds-global-navigation__logo-image\"><use xlink:href=\"#wds-company-logo-fandom-white\"></use></svg> </a>\n",
              "<nav class=\"wds-global-navigation__links\">\n",
              "<a class=\"wds-global-navigation__link\" data-tracking-label=\"link.games\" href=\"https://www.fandom.com/topics/games\">\n",
              "\tGames</a>\n",
              "<a class=\"wds-global-navigation__link\" data-tracking-label=\"link.movies\" href=\"https://www.fandom.com/topics/movies\">\n",
              "\tMovies</a>\n",
              "<a class=\"wds-global-navigation__link\" data-tracking-label=\"link.tv\" href=\"https://www.fandom.com/topics/tv\">\n",
              "\tTV</a>\n",
              "<a class=\"wds-global-navigation__link\" data-tracking-label=\"link.video\" href=\"https://www.fandom.com/video\">\n",
              "\tVideo</a>\n",
              "<div class=\"wds-dropdown wds-global-navigation__link-group wds-has-dark-shadow\">\n",
              "<div class=\"wds-dropdown__toggle wds-global-navigation__dropdown-toggle wds-global-navigation__link\">\n",
              "<span>Wikis</span>\n",
              "<svg class=\"wds-icon wds-icon-tiny wds-dropdown__toggle-chevron\"><use xlink:href=\"#wds-icons-dropdown-tiny\"></use></svg> </div>\n",
              "<div class=\"wds-dropdown__content wds-global-navigation__dropdown-content\">\n",
              "<ul class=\"wds-list wds-is-linked\">\n",
              "<li>\n",
              "<a data-tracking-label=\"link.explore\" href=\"https://www.fandom.com/explore\">\n",
              "\tExplore Wikis</a>\n",
              "</li>\n",
              "<li>\n",
              "<a data-tracking-label=\"link.community-central\" href=\"//community.fandom.com/wiki/Community_Central\">\n",
              "\tCommunity Central</a>\n",
              "</li>\n",
              "<li>\n",
              "<a class=\"wds-button wds-is-secondary wds-global-navigation__link-button\" data-tracking-label=\"link.start-a-wiki\" href=\"//ucp.fandom.com/wiki/Special:CreateNewWiki\">\n",
              "\tStart a Wiki</a>\n",
              "</li>\n",
              "</ul>\n",
              "</div>\n",
              "</div>\n",
              "</nav>\n",
              "</div>\n",
              "<div class=\"wds-global-navigation__content-bar-right\">\n",
              "<div class=\"wds-global-navigation__dropdown-controls\">\n",
              "<form action=\"//mobile-legends.fandom.com/wiki/Special:Search\" class=\"wds-global-navigation__search-container\">\n",
              "<div class=\"wds-global-navigation__search\">\n",
              "<div class=\"wds-global-navigation__search-toggle\">\n",
              "<svg class=\"wds-icon wds-icon-small wds-global-navigation__search-toggle-icon\"><use xlink:href=\"#wds-icons-magnifying-glass-small\"></use></svg> <svg class=\"wds-icon wds-global-navigation__search-toggle-icon\"><use xlink:href=\"#wds-icons-magnifying-glass\"></use></svg> <span class=\"wds-global-navigation__search-toggle-text\">\n",
              "\t\t\t\tSearch\t\t\t</span>\n",
              "</div>\n",
              "<div class=\"wds-global-navigation__search-input-wrapper\">\n",
              "<div class=\"wds-dropdown wds-global-navigation__search-scope\">\n",
              "<div class=\"wds-dropdown__toggle push-dropdown-down\">\n",
              "<span>\n",
              "\t\t\t\t\t\t\tThis wiki\t\t\t\t\t\t</span>\n",
              "<svg class=\"wds-icon wds-icon-tiny wds-dropdown__toggle-chevron\">\n",
              "<use xlink:href=\"#wds-icons-dropdown-tiny\"></use>\n",
              "</svg>\n",
              "</div>\n",
              "<div class=\"wds-is-not-scrollable wds-dropdown__content\">\n",
              "<ul class=\"wds-list wds-is-linked\">\n",
              "<li>\n",
              "<a data-value=\"internal\">\n",
              "\t\t\t\t\t\t\t\tThis wiki\t\t\t\t\t\t\t</a>\n",
              "</li>\n",
              "<li>\n",
              "<a data-value=\"cross-wiki\">\n",
              "\t\t\t\t\t\t\t\tAll wikis\t\t\t\t\t\t\t</a>\n",
              "</li>\n",
              "</ul>\n",
              "</div>\n",
              "\t\t\t\t | \n",
              "\t\t\t</div>\n",
              "<div class=\"wds-dropdown wds-global-navigation__suggestions-anchor wds-no-chevron wds-has-dark-shadow\">\n",
              "<input autocomplete=\"off\" class=\"wds-global-navigation__search-input\" data-suggestions-param-name=\"query\" data-suggestions-tracking-label=\"search-suggestion\" data-suggestions-url=\"//mobile-legends.fandom.com/wikia.php?controller=UnifiedSearchSuggestionsController&amp;method=getSuggestions&amp;format=json\" name=\"query\" type=\"search\"/>\n",
              "<input class=\"wds-global-navigation__search-scope\" name=\"scope\" type=\"hidden\" value=\"internal\"/>\n",
              "<input name=\"navigationSearch\" type=\"hidden\" value=\"true\"/>\n",
              "<button class=\"wds-button wds-is-text wds-global-navigation__search-close\" type=\"button\">\n",
              "<svg class=\"wds-icon wds-icon-tiny wds-global-navigation__search-close-icon\"><use xlink:href=\"#wds-icons-close-tiny\"></use></svg> </button>\n",
              "<button class=\"wds-button wds-global-navigation__search-submit\" data-tracking-label=\"search\">\n",
              "<svg class=\"wds-icon wds-icon-small wds-global-navigation__search-submit-icon\"><use xlink:href=\"#wds-icons-arrow-small\"></use></svg> </button>\n",
              "</div>\n",
              "</div>\n",
              "</div>\n",
              "</form>\n",
              "<div class=\"wds-dropdown wds-global-navigation__user-menu wds-has-dark-shadow wds-global-navigation__user-anon\">\n",
              "<div class=\"wds-dropdown__toggle\">\n",
              "<div class=\"wds-avatar\" title=\"\">\n",
              "<svg class=\"wds-avatar__image\"><use xlink:href=\"#wds-icons-avatar\"></use></svg> </div>\n",
              "<svg class=\"wds-icon wds-icon-tiny wds-dropdown__toggle-chevron\"><use xlink:href=\"#wds-icons-dropdown-tiny\"></use></svg> </div>\n",
              "<div class=\"wds-dropdown__content wds-is-right-aligned\">\n",
              "<ul class=\"wds-list wds-has-lines-between\">\n",
              "<li>\n",
              "<a class=\"wds-button wds-is-full-width\" data-tracking-label=\"account.sign-in\" href=\"https://www.fandom.com/signin?redirect=https%3A%2F%2Fmobile-legends.fandom.com%2Fwiki%2FAll_Heroes\" rel=\"nofollow\">\n",
              "\t\t\t\t\tSign In\t\t\t\t</a>\n",
              "</li>\n",
              "<li>\n",
              "<div class=\"wds-global-navigation__user-menu-dropdown-caption\">Don't have an account?</div>\n",
              "<a class=\"wds-button wds-is-full-width wds-is-secondary\" data-tracking-label=\"account.register\" href=\"https://www.fandom.com/register?redirect=https%3A%2F%2Fmobile-legends.fandom.com%2Fwiki%2FAll_Heroes\" rel=\"nofollow\">\n",
              "\t\t\t\t\tRegister\t\t\t\t</a>\n",
              "</li>\n",
              "</ul>\n",
              "</div>\n",
              "</div>\n",
              "<div class=\"wds-global-navigation__start-a-wiki\">\n",
              "<a class=\"wds-button wds-is-secondary wds-global-navigation__link-button\" data-tracking-label=\"start-a-wiki\" href=\"//ucp.fandom.com/wiki/Special:CreateNewWiki\">\n",
              "\tStart a Wiki</a>\n",
              "</div>\n",
              "</div>\n",
              "</div>\n",
              "</nav>\n",
              "</div>"
            ]
          },
          "metadata": {
            "tags": []
          },
          "execution_count": 69
        }
      ]
    },
    {
      "cell_type": "code",
      "metadata": {
        "id": "1e1QPWJU_mSO"
      },
      "source": [
        "hero = html.find_all('div', class_='ml hero-box-mini')"
      ],
      "execution_count": 89,
      "outputs": []
    },
    {
      "cell_type": "code",
      "metadata": {
        "colab": {
          "base_uri": "https://localhost:8080/"
        },
        "id": "6iQ_wPF4Ef2F",
        "outputId": "f4f53f0a-9c35-4d48-98cf-9ae2ff411bde"
      },
      "source": [
        "hero"
      ],
      "execution_count": 95,
      "outputs": [
        {
          "output_type": "execute_result",
          "data": {
            "text/plain": [
              "[<div class=\"ml hero-box-mini\">\n",
              " <div class=\"ml-img ml-round hero-img {{#switch: border-blue-alt _link _md _resize\"><a href=\"/wiki/Akai\" title=\"Akai\"><img alt=\"Akai.png\" data-image-key=\"Akai.png\" data-image-name=\"Akai.png\" decoding=\"async\" height=\"250\" src=\"https://static.wikia.nocookie.net/mobile-legends/images/c/c1/Akai.png/revision/latest/scale-to-width-down/177?cb=20180820100417\" width=\"177\"/></a></div><a href=\"/wiki/Akai\" title=\"Akai\">Akai</a>\n",
              " </div>, <div class=\"ml hero-box-mini\">\n",
              " <div class=\"ml-img ml-round hero-img {{#switch: border-blue-alt _link _md _resize\"><a href=\"/wiki/Alice\" title=\"Alice\"><img alt=\"Alice.png\" data-image-key=\"Alice.png\" data-image-name=\"Alice.png\" decoding=\"async\" height=\"250\" src=\"https://static.wikia.nocookie.net/mobile-legends/images/8/82/Alice.png/revision/latest/scale-to-width-down/177?cb=20190116120813\" width=\"177\"/></a></div><a href=\"/wiki/Alice\" title=\"Alice\">Alice</a>\n",
              " </div>, <div class=\"ml hero-box-mini\">\n",
              " <div class=\"ml-img ml-round hero-img {{#switch: border-blue-alt _link _md _resize\"><a href=\"/wiki/Atlas\" title=\"Atlas\"><img alt=\"Atlas.png\" data-image-key=\"Atlas.png\" data-image-name=\"Atlas.png\" decoding=\"async\" height=\"250\" src=\"https://static.wikia.nocookie.net/mobile-legends/images/0/04/Atlas.png/revision/latest/scale-to-width-down/177?cb=20200320123147\" width=\"177\"/></a></div><a href=\"/wiki/Atlas\" title=\"Atlas\">Atlas</a>\n",
              " </div>, <div class=\"ml hero-box-mini\">\n",
              " <div class=\"ml-img ml-round hero-img {{#switch: border-blue-alt _link _md _resize\"><a href=\"/wiki/Barats\" title=\"Barats\"><img alt=\"Barats.png\" class=\"lazyload\" data-image-key=\"Barats.png\" data-image-name=\"Barats.png\" data-src=\"https://static.wikia.nocookie.net/mobile-legends/images/5/50/Barats.png/revision/latest/scale-to-width-down/177?cb=20200724022218\" decoding=\"async\" height=\"250\" src=\"data:image/gif;base64,R0lGODlhAQABAIABAAAAAP///yH5BAEAAAEALAAAAAABAAEAQAICTAEAOw%3D%3D\" width=\"177\"/></a></div><a href=\"/wiki/Barats\" title=\"Barats\">Barats</a>\n",
              " </div>, <div class=\"ml hero-box-mini\">\n",
              " <div class=\"ml-img ml-round hero-img {{#switch: border-blue-alt _link _md _resize\"><a href=\"/wiki/Baxia\" title=\"Baxia\"><img alt=\"Baxia.png\" class=\"lazyload\" data-image-key=\"Baxia.png\" data-image-name=\"Baxia.png\" data-src=\"https://static.wikia.nocookie.net/mobile-legends/images/a/a5/Baxia.png/revision/latest/scale-to-width-down/177?cb=20190906170420\" decoding=\"async\" height=\"250\" src=\"data:image/gif;base64,R0lGODlhAQABAIABAAAAAP///yH5BAEAAAEALAAAAAABAAEAQAICTAEAOw%3D%3D\" width=\"177\"/></a></div><a href=\"/wiki/Baxia\" title=\"Baxia\">Baxia</a>\n",
              " </div>, <div class=\"ml hero-box-mini\">\n",
              " <div class=\"ml-img ml-round hero-img {{#switch: border-blue-alt _link _md _resize\"><a href=\"/wiki/Belerick\" title=\"Belerick\"><img alt=\"Belerick.png\" class=\"lazyload\" data-image-key=\"Belerick.png\" data-image-name=\"Belerick.png\" data-src=\"https://static.wikia.nocookie.net/mobile-legends/images/1/17/Belerick.png/revision/latest/scale-to-width-down/177?cb=20191129092353\" decoding=\"async\" height=\"250\" src=\"data:image/gif;base64,R0lGODlhAQABAIABAAAAAP///yH5BAEAAAEALAAAAAABAAEAQAICTAEAOw%3D%3D\" width=\"177\"/></a></div><a href=\"/wiki/Belerick\" title=\"Belerick\">Belerick</a>\n",
              " </div>, <div class=\"ml hero-box-mini\">\n",
              " <div class=\"ml-img ml-round hero-img {{#switch: border-blue-alt _link _md _resize\"><a href=\"/wiki/Esmeralda\" title=\"Esmeralda\"><img alt=\"Esmeralda.png\" class=\"lazyload\" data-image-key=\"Esmeralda.png\" data-image-name=\"Esmeralda.png\" data-src=\"https://static.wikia.nocookie.net/mobile-legends/images/d/d1/Esmeralda.png/revision/latest/scale-to-width-down/177?cb=20190315124914\" decoding=\"async\" height=\"250\" src=\"data:image/gif;base64,R0lGODlhAQABAIABAAAAAP///yH5BAEAAAEALAAAAAABAAEAQAICTAEAOw%3D%3D\" width=\"177\"/></a></div><a href=\"/wiki/Esmeralda\" title=\"Esmeralda\">Esmeralda</a>\n",
              " </div>, <div class=\"ml hero-box-mini\">\n",
              " <div class=\"ml-img ml-round hero-img {{#switch: border-blue-alt _link _md _resize\"><a href=\"/wiki/Franco\" title=\"Franco\"><img alt=\"Franco.png\" class=\"lazyload\" data-image-key=\"Franco.png\" data-image-name=\"Franco.png\" data-src=\"https://static.wikia.nocookie.net/mobile-legends/images/4/48/Franco.png/revision/latest/scale-to-width-down/177?cb=20180820100512\" decoding=\"async\" height=\"250\" src=\"data:image/gif;base64,R0lGODlhAQABAIABAAAAAP///yH5BAEAAAEALAAAAAABAAEAQAICTAEAOw%3D%3D\" width=\"177\"/></a></div><a href=\"/wiki/Franco\" title=\"Franco\">Franco</a>\n",
              " </div>, <div class=\"ml hero-box-mini\">\n",
              " <div class=\"ml-img ml-round hero-img {{#switch: border-blue-alt _link _md _resize\"><a href=\"/wiki/Gatotkaca\" title=\"Gatotkaca\"><img alt=\"Gatotkaca.png\" class=\"lazyload\" data-image-key=\"Gatotkaca.png\" data-image-name=\"Gatotkaca.png\" data-src=\"https://static.wikia.nocookie.net/mobile-legends/images/c/cc/Gatotkaca.png/revision/latest/scale-to-width-down/177?cb=20190116114959\" decoding=\"async\" height=\"250\" src=\"data:image/gif;base64,R0lGODlhAQABAIABAAAAAP///yH5BAEAAAEALAAAAAABAAEAQAICTAEAOw%3D%3D\" width=\"177\"/></a></div><a href=\"/wiki/Gatotkaca\" title=\"Gatotkaca\">Gatotkaca</a>\n",
              " </div>, <div class=\"ml hero-box-mini\">\n",
              " <div class=\"ml-img ml-round hero-img {{#switch: border-blue-alt _link _md _resize\"><a href=\"/wiki/Grock\" title=\"Grock\"><img alt=\"Grock.png\" class=\"lazyload\" data-image-key=\"Grock.png\" data-image-name=\"Grock.png\" data-src=\"https://static.wikia.nocookie.net/mobile-legends/images/2/2b/Grock.png/revision/latest/scale-to-width-down/177?cb=20190615170919\" decoding=\"async\" height=\"250\" src=\"data:image/gif;base64,R0lGODlhAQABAIABAAAAAP///yH5BAEAAAEALAAAAAABAAEAQAICTAEAOw%3D%3D\" width=\"177\"/></a></div><a href=\"/wiki/Grock\" title=\"Grock\">Grock</a>\n",
              " </div>, <div class=\"ml hero-box-mini\">\n",
              " <div class=\"ml-img ml-round hero-img {{#switch: border-blue-alt _link _md _resize\"><a href=\"/wiki/Hilda\" title=\"Hilda\"><img alt=\"Hilda.png\" class=\"lazyload\" data-image-key=\"Hilda.png\" data-image-name=\"Hilda.png\" data-src=\"https://static.wikia.nocookie.net/mobile-legends/images/5/58/Hilda.png/revision/latest/scale-to-width-down/177?cb=20180820101111\" decoding=\"async\" height=\"250\" src=\"data:image/gif;base64,R0lGODlhAQABAIABAAAAAP///yH5BAEAAAEALAAAAAABAAEAQAICTAEAOw%3D%3D\" width=\"177\"/></a></div><a href=\"/wiki/Hilda\" title=\"Hilda\">Hilda</a>\n",
              " </div>, <div class=\"ml hero-box-mini\">\n",
              " <div class=\"ml-img ml-round hero-img {{#switch: border-blue-alt _link _md _resize\"><a href=\"/wiki/Hylos\" title=\"Hylos\"><img alt=\"Hylos.png\" class=\"lazyload\" data-image-key=\"Hylos.png\" data-image-name=\"Hylos.png\" data-src=\"https://static.wikia.nocookie.net/mobile-legends/images/d/d6/Hylos.png/revision/latest/scale-to-width-down/177?cb=20180820101206\" decoding=\"async\" height=\"250\" src=\"data:image/gif;base64,R0lGODlhAQABAIABAAAAAP///yH5BAEAAAEALAAAAAABAAEAQAICTAEAOw%3D%3D\" width=\"177\"/></a></div><a href=\"/wiki/Hylos\" title=\"Hylos\">Hylos</a>\n",
              " </div>, <div class=\"ml hero-box-mini\">\n",
              " <div class=\"ml-img ml-round hero-img {{#switch: border-blue-alt _link _md _resize\"><a href=\"/wiki/Johnson\" title=\"Johnson\"><img alt=\"Johnson.png\" class=\"lazyload\" data-image-key=\"Johnson.png\" data-image-name=\"Johnson.png\" data-src=\"https://static.wikia.nocookie.net/mobile-legends/images/5/56/Johnson.png/revision/latest/scale-to-width-down/177?cb=20190307090515\" decoding=\"async\" height=\"250\" src=\"data:image/gif;base64,R0lGODlhAQABAIABAAAAAP///yH5BAEAAAEALAAAAAABAAEAQAICTAEAOw%3D%3D\" width=\"177\"/></a></div><a href=\"/wiki/Johnson\" title=\"Johnson\">Johnson</a>\n",
              " </div>, <div class=\"ml hero-box-mini\">\n",
              " <div class=\"ml-img ml-round hero-img {{#switch: border-blue-alt _link _md _resize\"><a href=\"/wiki/Khufra\" title=\"Khufra\"><img alt=\"Khufra.png\" class=\"lazyload\" data-image-key=\"Khufra.png\" data-image-name=\"Khufra.png\" data-src=\"https://static.wikia.nocookie.net/mobile-legends/images/0/02/Khufra.png/revision/latest/scale-to-width-down/177?cb=20190106130602\" decoding=\"async\" height=\"250\" src=\"data:image/gif;base64,R0lGODlhAQABAIABAAAAAP///yH5BAEAAAEALAAAAAABAAEAQAICTAEAOw%3D%3D\" width=\"177\"/></a></div><a href=\"/wiki/Khufra\" title=\"Khufra\">Khufra</a>\n",
              " </div>, <div class=\"ml hero-box-mini\">\n",
              " <div class=\"ml-img ml-round hero-img {{#switch: border-blue-alt _link _md _resize\"><a href=\"/wiki/Lolita\" title=\"Lolita\"><img alt=\"Lolita.png\" class=\"lazyload\" data-image-key=\"Lolita.png\" data-image-name=\"Lolita.png\" data-src=\"https://static.wikia.nocookie.net/mobile-legends/images/2/22/Lolita.png/revision/latest/scale-to-width-down/177?cb=20180820100939\" decoding=\"async\" height=\"250\" src=\"data:image/gif;base64,R0lGODlhAQABAIABAAAAAP///yH5BAEAAAEALAAAAAABAAEAQAICTAEAOw%3D%3D\" width=\"177\"/></a></div><a href=\"/wiki/Lolita\" title=\"Lolita\">Lolita</a>\n",
              " </div>, <div class=\"ml hero-box-mini\">\n",
              " <div class=\"ml-img ml-round hero-img {{#switch: border-blue-alt _link _md _resize\"><a href=\"/wiki/Minotaur\" title=\"Minotaur\"><img alt=\"Minotaur.png\" class=\"lazyload\" data-image-key=\"Minotaur.png\" data-image-name=\"Minotaur.png\" data-src=\"https://static.wikia.nocookie.net/mobile-legends/images/7/7e/Minotaur.png/revision/latest/scale-to-width-down/177?cb=20200718100028\" decoding=\"async\" height=\"250\" src=\"data:image/gif;base64,R0lGODlhAQABAIABAAAAAP///yH5BAEAAAEALAAAAAABAAEAQAICTAEAOw%3D%3D\" width=\"177\"/></a></div><a href=\"/wiki/Minotaur\" title=\"Minotaur\">Minotaur</a>\n",
              " </div>, <div class=\"ml hero-box-mini\">\n",
              " <div class=\"ml-img ml-round hero-img {{#switch: border-blue-alt _link _md _resize\"><a href=\"/wiki/Ruby\" title=\"Ruby\"><img alt=\"Ruby.png\" class=\"lazyload\" data-image-key=\"Ruby.png\" data-image-name=\"Ruby.png\" data-src=\"https://static.wikia.nocookie.net/mobile-legends/images/a/a9/Ruby.png/revision/latest/scale-to-width-down/177?cb=20201009125951\" decoding=\"async\" height=\"250\" src=\"data:image/gif;base64,R0lGODlhAQABAIABAAAAAP///yH5BAEAAAEALAAAAAABAAEAQAICTAEAOw%3D%3D\" width=\"177\"/></a></div><a href=\"/wiki/Ruby\" title=\"Ruby\">Ruby</a>\n",
              " </div>, <div class=\"ml hero-box-mini\">\n",
              " <div class=\"ml-img ml-round hero-img {{#switch: border-blue-alt _link _md _resize\"><a href=\"/wiki/Tigreal\" title=\"Tigreal\"><img alt=\"Tigreal.png\" class=\"lazyload\" data-image-key=\"Tigreal.png\" data-image-name=\"Tigreal.png\" data-src=\"https://static.wikia.nocookie.net/mobile-legends/images/b/be/Tigreal.png/revision/latest/scale-to-width-down/177?cb=20201009130127\" decoding=\"async\" height=\"250\" src=\"data:image/gif;base64,R0lGODlhAQABAIABAAAAAP///yH5BAEAAAEALAAAAAABAAEAQAICTAEAOw%3D%3D\" width=\"177\"/></a></div><a href=\"/wiki/Tigreal\" title=\"Tigreal\">Tigreal</a>\n",
              " </div>, <div class=\"ml hero-box-mini\">\n",
              " <div class=\"ml-img ml-round hero-img {{#switch: border-blue-alt _link _md _resize\"><a href=\"/wiki/Uranus\" title=\"Uranus\"><img alt=\"Uranus.png\" class=\"lazyload\" data-image-key=\"Uranus.png\" data-image-name=\"Uranus.png\" data-src=\"https://static.wikia.nocookie.net/mobile-legends/images/e/ec/Uranus.png/revision/latest/scale-to-width-down/177?cb=20180820101219\" decoding=\"async\" height=\"250\" src=\"data:image/gif;base64,R0lGODlhAQABAIABAAAAAP///yH5BAEAAAEALAAAAAABAAEAQAICTAEAOw%3D%3D\" width=\"177\"/></a></div><a href=\"/wiki/Uranus\" title=\"Uranus\">Uranus</a>\n",
              " </div>, <div class=\"ml hero-box-mini\">\n",
              " <div class=\"ml-img ml-round hero-img {{#switch: border-blue-alt _link _md _resize\"><a href=\"/wiki/Aldous\" title=\"Aldous\"><img alt=\"Aldous.png\" class=\"lazyload\" data-image-key=\"Aldous.png\" data-image-name=\"Aldous.png\" data-src=\"https://static.wikia.nocookie.net/mobile-legends/images/b/bc/Aldous.png/revision/latest/scale-to-width-down/177?cb=20200822085215\" decoding=\"async\" height=\"250\" src=\"data:image/gif;base64,R0lGODlhAQABAIABAAAAAP///yH5BAEAAAEALAAAAAABAAEAQAICTAEAOw%3D%3D\" width=\"177\"/></a></div><a href=\"/wiki/Aldous\" title=\"Aldous\">Aldous</a>\n",
              " </div>, <div class=\"ml hero-box-mini\">\n",
              " <div class=\"ml-img ml-round hero-img {{#switch: border-blue-alt _link _md _resize\"><a href=\"/wiki/Alpha\" title=\"Alpha\"><img alt=\"Alpha.png\" class=\"lazyload\" data-image-key=\"Alpha.png\" data-image-name=\"Alpha.png\" data-src=\"https://static.wikia.nocookie.net/mobile-legends/images/a/a8/Alpha.png/revision/latest/scale-to-width-down/177?cb=20180820101914\" decoding=\"async\" height=\"250\" src=\"data:image/gif;base64,R0lGODlhAQABAIABAAAAAP///yH5BAEAAAEALAAAAAABAAEAQAICTAEAOw%3D%3D\" width=\"177\"/></a></div><a href=\"/wiki/Alpha\" title=\"Alpha\">Alpha</a>\n",
              " </div>, <div class=\"ml hero-box-mini\">\n",
              " <div class=\"ml-img ml-round hero-img {{#switch: border-blue-alt _link _md _resize\"><a href=\"/wiki/Alucard\" title=\"Alucard\"><img alt=\"Alucard.png\" class=\"lazyload\" data-image-key=\"Alucard.png\" data-image-name=\"Alucard.png\" data-src=\"https://static.wikia.nocookie.net/mobile-legends/images/e/e7/Alucard.png/revision/latest/scale-to-width-down/177?cb=20200718063828\" decoding=\"async\" height=\"250\" src=\"data:image/gif;base64,R0lGODlhAQABAIABAAAAAP///yH5BAEAAAEALAAAAAABAAEAQAICTAEAOw%3D%3D\" width=\"177\"/></a></div><a href=\"/wiki/Alucard\" title=\"Alucard\">Alucard</a>\n",
              " </div>, <div class=\"ml hero-box-mini\">\n",
              " <div class=\"ml-img ml-round hero-img {{#switch: border-blue-alt _link _md _resize\"><a href=\"/wiki/Argus\" title=\"Argus\"><img alt=\"Argus.png\" class=\"lazyload\" data-image-key=\"Argus.png\" data-image-name=\"Argus.png\" data-src=\"https://static.wikia.nocookie.net/mobile-legends/images/2/26/Argus.png/revision/latest/scale-to-width-down/177?cb=20180820102053\" decoding=\"async\" height=\"250\" src=\"data:image/gif;base64,R0lGODlhAQABAIABAAAAAP///yH5BAEAAAEALAAAAAABAAEAQAICTAEAOw%3D%3D\" width=\"177\"/></a></div><a href=\"/wiki/Argus\" title=\"Argus\">Argus</a>\n",
              " </div>, <div class=\"ml hero-box-mini\">\n",
              " <div class=\"ml-img ml-round hero-img {{#switch: border-blue-alt _link _md _resize\"><a href=\"/wiki/Badang\" title=\"Badang\"><img alt=\"Badang.png\" class=\"lazyload\" data-image-key=\"Badang.png\" data-image-name=\"Badang.png\" data-src=\"https://static.wikia.nocookie.net/mobile-legends/images/1/10/Badang.png/revision/latest/scale-to-width-down/177?cb=20190615171554\" decoding=\"async\" height=\"250\" src=\"data:image/gif;base64,R0lGODlhAQABAIABAAAAAP///yH5BAEAAAEALAAAAAABAAEAQAICTAEAOw%3D%3D\" width=\"177\"/></a></div><a href=\"/wiki/Badang\" title=\"Badang\">Badang</a>\n",
              " </div>, <div class=\"ml hero-box-mini\">\n",
              " <div class=\"ml-img ml-round hero-img {{#switch: border-blue-alt _link _md _resize\"><a href=\"/wiki/Balmond\" title=\"Balmond\"><img alt=\"Balmond.png\" class=\"lazyload\" data-image-key=\"Balmond.png\" data-image-name=\"Balmond.png\" data-src=\"https://static.wikia.nocookie.net/mobile-legends/images/e/e1/Balmond.png/revision/latest/scale-to-width-down/177?cb=20181223130442\" decoding=\"async\" height=\"250\" src=\"data:image/gif;base64,R0lGODlhAQABAIABAAAAAP///yH5BAEAAAEALAAAAAABAAEAQAICTAEAOw%3D%3D\" width=\"177\"/></a></div><a href=\"/wiki/Balmond\" title=\"Balmond\">Balmond</a>\n",
              " </div>, <div class=\"ml hero-box-mini\">\n",
              " <div class=\"ml-img ml-round hero-img {{#switch: border-blue-alt _link _md _resize\"><a href=\"/wiki/Bane\" title=\"Bane\"><img alt=\"Bane.png\" class=\"lazyload\" data-image-key=\"Bane.png\" data-image-name=\"Bane.png\" data-src=\"https://static.wikia.nocookie.net/mobile-legends/images/9/9a/Bane.png/revision/latest/scale-to-width-down/177?cb=20180820101814\" decoding=\"async\" height=\"250\" src=\"data:image/gif;base64,R0lGODlhAQABAIABAAAAAP///yH5BAEAAAEALAAAAAABAAEAQAICTAEAOw%3D%3D\" width=\"177\"/></a></div><a href=\"/wiki/Bane\" title=\"Bane\">Bane</a>\n",
              " </div>, <div class=\"ml hero-box-mini\">\n",
              " <div class=\"ml-img ml-round hero-img {{#switch: border-blue-alt _link _md _resize\"><a href=\"/wiki/Barats\" title=\"Barats\"><img alt=\"Barats.png\" class=\"lazyload\" data-image-key=\"Barats.png\" data-image-name=\"Barats.png\" data-src=\"https://static.wikia.nocookie.net/mobile-legends/images/5/50/Barats.png/revision/latest/scale-to-width-down/177?cb=20200724022218\" decoding=\"async\" height=\"250\" src=\"data:image/gif;base64,R0lGODlhAQABAIABAAAAAP///yH5BAEAAAEALAAAAAABAAEAQAICTAEAOw%3D%3D\" width=\"177\"/></a></div><a href=\"/wiki/Barats\" title=\"Barats\">Barats</a>\n",
              " </div>, <div class=\"ml hero-box-mini\">\n",
              " <div class=\"ml-img ml-round hero-img {{#switch: border-blue-alt _link _md _resize\"><a href=\"/wiki/Chou\" title=\"Chou\"><img alt=\"Chou.png\" class=\"lazyload\" data-image-key=\"Chou.png\" data-image-name=\"Chou.png\" data-src=\"https://static.wikia.nocookie.net/mobile-legends/images/0/0f/Chou.png/revision/latest/scale-to-width-down/177?cb=20190325172431\" decoding=\"async\" height=\"250\" src=\"data:image/gif;base64,R0lGODlhAQABAIABAAAAAP///yH5BAEAAAEALAAAAAABAAEAQAICTAEAOw%3D%3D\" width=\"177\"/></a></div><a href=\"/wiki/Chou\" title=\"Chou\">Chou</a>\n",
              " </div>, <div class=\"ml hero-box-mini\">\n",
              " <div class=\"ml-img ml-round hero-img {{#switch: border-blue-alt _link _md _resize\"><a href=\"/wiki/Dyrroth\" title=\"Dyrroth\"><img alt=\"Dyrroth.png\" class=\"lazyload\" data-image-key=\"Dyrroth.png\" data-image-name=\"Dyrroth.png\" data-src=\"https://static.wikia.nocookie.net/mobile-legends/images/b/ba/Dyrroth.png/revision/latest/scale-to-width-down/177?cb=20190625172600\" decoding=\"async\" height=\"250\" src=\"data:image/gif;base64,R0lGODlhAQABAIABAAAAAP///yH5BAEAAAEALAAAAAABAAEAQAICTAEAOw%3D%3D\" width=\"177\"/></a></div><a href=\"/wiki/Dyrroth\" title=\"Dyrroth\">Dyrroth</a>\n",
              " </div>, <div class=\"ml hero-box-mini\">\n",
              " <div class=\"ml-img ml-round hero-img {{#switch: border-blue-alt _link _md _resize\"><a href=\"/wiki/Freya\" title=\"Freya\"><img alt=\"Freya.png\" class=\"lazyload\" data-image-key=\"Freya.png\" data-image-name=\"Freya.png\" data-src=\"https://static.wikia.nocookie.net/mobile-legends/images/2/29/Freya.png/revision/latest/scale-to-width-down/177?cb=20200606110259\" decoding=\"async\" height=\"250\" src=\"data:image/gif;base64,R0lGODlhAQABAIABAAAAAP///yH5BAEAAAEALAAAAAABAAEAQAICTAEAOw%3D%3D\" width=\"177\"/></a></div><a href=\"/wiki/Freya\" title=\"Freya\">Freya</a>\n",
              " </div>, <div class=\"ml hero-box-mini\">\n",
              " <div class=\"ml-img ml-round hero-img {{#switch: border-blue-alt _link _md _resize\"><a href=\"/wiki/Gatotkaca\" title=\"Gatotkaca\"><img alt=\"Gatotkaca.png\" class=\"lazyload\" data-image-key=\"Gatotkaca.png\" data-image-name=\"Gatotkaca.png\" data-src=\"https://static.wikia.nocookie.net/mobile-legends/images/c/cc/Gatotkaca.png/revision/latest/scale-to-width-down/177?cb=20190116114959\" decoding=\"async\" height=\"250\" src=\"data:image/gif;base64,R0lGODlhAQABAIABAAAAAP///yH5BAEAAAEALAAAAAABAAEAQAICTAEAOw%3D%3D\" width=\"177\"/></a></div><a href=\"/wiki/Gatotkaca\" title=\"Gatotkaca\">Gatotkaca</a>\n",
              " </div>, <div class=\"ml hero-box-mini\">\n",
              " <div class=\"ml-img ml-round hero-img {{#switch: border-blue-alt _link _md _resize\"><a href=\"/wiki/Guinevere\" title=\"Guinevere\"><img alt=\"Guinevere.png\" class=\"lazyload\" data-image-key=\"Guinevere.png\" data-image-name=\"Guinevere.png\" data-src=\"https://static.wikia.nocookie.net/mobile-legends/images/8/89/Guinevere.png/revision/latest/scale-to-width-down/177?cb=20190304120629\" decoding=\"async\" height=\"250\" src=\"data:image/gif;base64,R0lGODlhAQABAIABAAAAAP///yH5BAEAAAEALAAAAAABAAEAQAICTAEAOw%3D%3D\" width=\"177\"/></a></div><a href=\"/wiki/Guinevere\" title=\"Guinevere\">Guinevere</a>\n",
              " </div>, <div class=\"ml hero-box-mini\">\n",
              " <div class=\"ml-img ml-round hero-img {{#switch: border-blue-alt _link _md _resize\"><a href=\"/wiki/Hilda\" title=\"Hilda\"><img alt=\"Hilda.png\" class=\"lazyload\" data-image-key=\"Hilda.png\" data-image-name=\"Hilda.png\" data-src=\"https://static.wikia.nocookie.net/mobile-legends/images/5/58/Hilda.png/revision/latest/scale-to-width-down/177?cb=20180820101111\" decoding=\"async\" height=\"250\" src=\"data:image/gif;base64,R0lGODlhAQABAIABAAAAAP///yH5BAEAAAEALAAAAAABAAEAQAICTAEAOw%3D%3D\" width=\"177\"/></a></div><a href=\"/wiki/Hilda\" title=\"Hilda\">Hilda</a>\n",
              " </div>, <div class=\"ml hero-box-mini\">\n",
              " <div class=\"ml-img ml-round hero-img {{#switch: border-blue-alt _link _md _resize\"><a href=\"/wiki/Jawhead\" title=\"Jawhead\"><img alt=\"Jawhead.png\" class=\"lazyload\" data-image-key=\"Jawhead.png\" data-image-name=\"Jawhead.png\" data-src=\"https://static.wikia.nocookie.net/mobile-legends/images/a/a7/Jawhead.png/revision/latest/scale-to-width-down/177?cb=20180820102111\" decoding=\"async\" height=\"250\" src=\"data:image/gif;base64,R0lGODlhAQABAIABAAAAAP///yH5BAEAAAEALAAAAAABAAEAQAICTAEAOw%3D%3D\" width=\"177\"/></a></div><a href=\"/wiki/Jawhead\" title=\"Jawhead\">Jawhead</a>\n",
              " </div>, <div class=\"ml hero-box-mini\">\n",
              " <div class=\"ml-img ml-round hero-img {{#switch: border-blue-alt _link _md _resize\"><a href=\"/wiki/Kaja\" title=\"Kaja\"><img alt=\"Kaja.png\" class=\"lazyload\" data-image-key=\"Kaja.png\" data-image-name=\"Kaja.png\" data-src=\"https://static.wikia.nocookie.net/mobile-legends/images/1/16/Kaja.png/revision/latest/scale-to-width-down/177?cb=20190615171034\" decoding=\"async\" height=\"250\" src=\"data:image/gif;base64,R0lGODlhAQABAIABAAAAAP///yH5BAEAAAEALAAAAAABAAEAQAICTAEAOw%3D%3D\" width=\"177\"/></a></div><a href=\"/wiki/Kaja\" title=\"Kaja\">Kaja</a>\n",
              " </div>, <div class=\"ml hero-box-mini\">\n",
              " <div class=\"ml-img ml-round hero-img {{#switch: border-blue-alt _link _md _resize\"><a href=\"/wiki/Khaleed\" title=\"Khaleed\"><img alt=\"Khaleed.png\" class=\"lazyload\" data-image-key=\"Khaleed.png\" data-image-name=\"Khaleed.png\" data-src=\"https://static.wikia.nocookie.net/mobile-legends/images/9/91/Khaleed.png/revision/latest/scale-to-width-down/177?cb=20200810043756\" decoding=\"async\" height=\"250\" src=\"data:image/gif;base64,R0lGODlhAQABAIABAAAAAP///yH5BAEAAAEALAAAAAABAAEAQAICTAEAOw%3D%3D\" width=\"177\"/></a></div><a href=\"/wiki/Khaleed\" title=\"Khaleed\">Khaleed</a>\n",
              " </div>, <div class=\"ml hero-box-mini\">\n",
              " <div class=\"ml-img ml-round hero-img {{#switch: border-blue-alt _link _md _resize\"><a href=\"/wiki/Lapu-Lapu\" title=\"Lapu-Lapu\"><img alt=\"Lapu-Lapu.png\" class=\"lazyload\" data-image-key=\"Lapu-Lapu.png\" data-image-name=\"Lapu-Lapu.png\" data-src=\"https://static.wikia.nocookie.net/mobile-legends/images/8/82/Lapu-Lapu.png/revision/latest/scale-to-width-down/177?cb=20201017061625\" decoding=\"async\" height=\"250\" src=\"data:image/gif;base64,R0lGODlhAQABAIABAAAAAP///yH5BAEAAAEALAAAAAABAAEAQAICTAEAOw%3D%3D\" width=\"177\"/></a></div><a href=\"/wiki/Lapu-Lapu\" title=\"Lapu-Lapu\">Lapu-Lapu</a>\n",
              " </div>, <div class=\"ml hero-box-mini\">\n",
              " <div class=\"ml-img ml-round hero-img {{#switch: border-blue-alt _link _md _resize\"><a href=\"/wiki/Leomord\" title=\"Leomord\"><img alt=\"Leomord.png\" class=\"lazyload\" data-image-key=\"Leomord.png\" data-image-name=\"Leomord.png\" data-src=\"https://static.wikia.nocookie.net/mobile-legends/images/5/59/Leomord.png/revision/latest/scale-to-width-down/177?cb=20190412182808\" decoding=\"async\" height=\"250\" src=\"data:image/gif;base64,R0lGODlhAQABAIABAAAAAP///yH5BAEAAAEALAAAAAABAAEAQAICTAEAOw%3D%3D\" width=\"177\"/></a></div><a href=\"/wiki/Leomord\" title=\"Leomord\">Leomord</a>\n",
              " </div>, <div class=\"ml hero-box-mini\">\n",
              " <div class=\"ml-img ml-round hero-img {{#switch: border-blue-alt _link _md _resize\"><a href=\"/wiki/Martis\" title=\"Martis\"><img alt=\"Martis.png\" class=\"lazyload\" data-image-key=\"Martis.png\" data-image-name=\"Martis.png\" data-src=\"https://static.wikia.nocookie.net/mobile-legends/images/5/57/Martis.png/revision/latest/scale-to-width-down/177?cb=20180820102126\" decoding=\"async\" height=\"250\" src=\"data:image/gif;base64,R0lGODlhAQABAIABAAAAAP///yH5BAEAAAEALAAAAAABAAEAQAICTAEAOw%3D%3D\" width=\"177\"/></a></div><a href=\"/wiki/Martis\" title=\"Martis\">Martis</a>\n",
              " </div>, <div class=\"ml hero-box-mini\">\n",
              " <div class=\"ml-img ml-round hero-img {{#switch: border-blue-alt _link _md _resize\"><a href=\"/wiki/Masha\" title=\"Masha\"><img alt=\"Masha.png\" class=\"lazyload\" data-image-key=\"Masha.png\" data-image-name=\"Masha.png\" data-src=\"https://static.wikia.nocookie.net/mobile-legends/images/f/f4/Masha.png/revision/latest/scale-to-width-down/177?cb=20200408114154\" decoding=\"async\" height=\"250\" src=\"data:image/gif;base64,R0lGODlhAQABAIABAAAAAP///yH5BAEAAAEALAAAAAABAAEAQAICTAEAOw%3D%3D\" width=\"177\"/></a></div><a href=\"/wiki/Masha\" title=\"Masha\">Masha</a>\n",
              " </div>, <div class=\"ml hero-box-mini\">\n",
              " <div class=\"ml-img ml-round hero-img {{#switch: border-blue-alt _link _md _resize\"><a href=\"/wiki/Minsitthar\" title=\"Minsitthar\"><img alt=\"Minsitthar.png\" class=\"lazyload\" data-image-key=\"Minsitthar.png\" data-image-name=\"Minsitthar.png\" data-src=\"https://static.wikia.nocookie.net/mobile-legends/images/3/37/Minsitthar.png/revision/latest/scale-to-width-down/177?cb=20181124121459\" decoding=\"async\" height=\"250\" src=\"data:image/gif;base64,R0lGODlhAQABAIABAAAAAP///yH5BAEAAAEALAAAAAABAAEAQAICTAEAOw%3D%3D\" width=\"177\"/></a></div><a href=\"/wiki/Minsitthar\" title=\"Minsitthar\">Minsitthar</a>\n",
              " </div>, <div class=\"ml hero-box-mini\">\n",
              " <div class=\"ml-img ml-round hero-img {{#switch: border-blue-alt _link _md _resize\"><a href=\"/wiki/Roger\" title=\"Roger\"><img alt=\"Roger.png\" class=\"lazyload\" data-image-key=\"Roger.png\" data-image-name=\"Roger.png\" data-src=\"https://static.wikia.nocookie.net/mobile-legends/images/c/c7/Roger.png/revision/latest/scale-to-width-down/177?cb=20190615170753\" decoding=\"async\" height=\"250\" src=\"data:image/gif;base64,R0lGODlhAQABAIABAAAAAP///yH5BAEAAAEALAAAAAABAAEAQAICTAEAOw%3D%3D\" width=\"177\"/></a></div><a href=\"/wiki/Roger\" title=\"Roger\">Roger</a>\n",
              " </div>, <div class=\"ml hero-box-mini\">\n",
              " <div class=\"ml-img ml-round hero-img {{#switch: border-blue-alt _link _md _resize\"><a href=\"/wiki/Ruby\" title=\"Ruby\"><img alt=\"Ruby.png\" class=\"lazyload\" data-image-key=\"Ruby.png\" data-image-name=\"Ruby.png\" data-src=\"https://static.wikia.nocookie.net/mobile-legends/images/a/a9/Ruby.png/revision/latest/scale-to-width-down/177?cb=20201009125951\" decoding=\"async\" height=\"250\" src=\"data:image/gif;base64,R0lGODlhAQABAIABAAAAAP///yH5BAEAAAEALAAAAAABAAEAQAICTAEAOw%3D%3D\" width=\"177\"/></a></div><a href=\"/wiki/Ruby\" title=\"Ruby\">Ruby</a>\n",
              " </div>, <div class=\"ml hero-box-mini\">\n",
              " <div class=\"ml-img ml-round hero-img {{#switch: border-blue-alt _link _md _resize\"><a href=\"/wiki/Silvanna\" title=\"Silvanna\"><img alt=\"Silvanna.png\" class=\"lazyload\" data-image-key=\"Silvanna.png\" data-image-name=\"Silvanna.png\" data-src=\"https://static.wikia.nocookie.net/mobile-legends/images/a/a9/Silvanna.png/revision/latest/scale-to-width-down/177?cb=20200408115031\" decoding=\"async\" height=\"250\" src=\"data:image/gif;base64,R0lGODlhAQABAIABAAAAAP///yH5BAEAAAEALAAAAAABAAEAQAICTAEAOw%3D%3D\" width=\"177\"/></a></div><a href=\"/wiki/Silvanna\" title=\"Silvanna\">Silvanna</a>\n",
              " </div>, <div class=\"ml hero-box-mini\">\n",
              " <div class=\"ml-img ml-round hero-img {{#switch: border-blue-alt _link _md _resize\"><a href=\"/wiki/Sun\" title=\"Sun\"><img alt=\"Sun.png\" class=\"lazyload\" data-image-key=\"Sun.png\" data-image-name=\"Sun.png\" data-src=\"https://static.wikia.nocookie.net/mobile-legends/images/6/61/Sun.png/revision/latest/scale-to-width-down/177?cb=20180820101905\" decoding=\"async\" height=\"250\" src=\"data:image/gif;base64,R0lGODlhAQABAIABAAAAAP///yH5BAEAAAEALAAAAAABAAEAQAICTAEAOw%3D%3D\" width=\"177\"/></a></div><a href=\"/wiki/Sun\" title=\"Sun\">Sun</a>\n",
              " </div>, <div class=\"ml hero-box-mini\">\n",
              " <div class=\"ml-img ml-round hero-img {{#switch: border-blue-alt _link _md _resize\"><a href=\"/wiki/Thamuz\" title=\"Thamuz\"><img alt=\"Thamuz.png\" class=\"lazyload\" data-image-key=\"Thamuz.png\" data-image-name=\"Thamuz.png\" data-src=\"https://static.wikia.nocookie.net/mobile-legends/images/1/19/Thamuz.png/revision/latest/scale-to-width-down/177?cb=20190325174153\" decoding=\"async\" height=\"250\" src=\"data:image/gif;base64,R0lGODlhAQABAIABAAAAAP///yH5BAEAAAEALAAAAAABAAEAQAICTAEAOw%3D%3D\" width=\"177\"/></a></div><a href=\"/wiki/Thamuz\" title=\"Thamuz\">Thamuz</a>\n",
              " </div>, <div class=\"ml hero-box-mini\">\n",
              " <div class=\"ml-img ml-round hero-img {{#switch: border-blue-alt _link _md _resize\"><a href=\"/wiki/Terizla\" title=\"Terizla\"><img alt=\"Terizla.png\" class=\"lazyload\" data-image-key=\"Terizla.png\" data-image-name=\"Terizla.png\" data-src=\"https://static.wikia.nocookie.net/mobile-legends/images/a/ac/Terizla.png/revision/latest/scale-to-width-down/177?cb=20190329164039\" decoding=\"async\" height=\"250\" src=\"data:image/gif;base64,R0lGODlhAQABAIABAAAAAP///yH5BAEAAAEALAAAAAABAAEAQAICTAEAOw%3D%3D\" width=\"177\"/></a></div><a href=\"/wiki/Terizla\" title=\"Terizla\">Terizla</a>\n",
              " </div>, <div class=\"ml hero-box-mini\">\n",
              " <div class=\"ml-img ml-round hero-img {{#switch: border-blue-alt _link _md _resize\"><a href=\"/wiki/X.Borg\" title=\"X.Borg\"><img alt=\"X.Borg.png\" class=\"lazyload\" data-image-key=\"X.Borg.png\" data-image-name=\"X.Borg.png\" data-src=\"https://static.wikia.nocookie.net/mobile-legends/images/5/55/X.Borg.png/revision/latest/scale-to-width-down/177?cb=20190811073509\" decoding=\"async\" height=\"250\" src=\"data:image/gif;base64,R0lGODlhAQABAIABAAAAAP///yH5BAEAAAEALAAAAAABAAEAQAICTAEAOw%3D%3D\" width=\"177\"/></a></div><a href=\"/wiki/X.Borg\" title=\"X.Borg\">X.Borg</a>\n",
              " </div>, <div class=\"ml hero-box-mini\">\n",
              " <div class=\"ml-img ml-round hero-img {{#switch: border-blue-alt _link _md _resize\"><a href=\"/wiki/Yu_Zhong\" title=\"Yu Zhong\"><img alt=\"Yu Zhong.png\" class=\"lazyload\" data-image-key=\"Yu_Zhong.png\" data-image-name=\"Yu Zhong.png\" data-src=\"https://static.wikia.nocookie.net/mobile-legends/images/1/1b/Yu_Zhong.png/revision/latest/scale-to-width-down/177?cb=20200620033741\" decoding=\"async\" height=\"250\" src=\"data:image/gif;base64,R0lGODlhAQABAIABAAAAAP///yH5BAEAAAEALAAAAAABAAEAQAICTAEAOw%3D%3D\" width=\"177\"/></a></div><a href=\"/wiki/Yu_Zhong\" title=\"Yu Zhong\">Yu Zhong</a>\n",
              " </div>, <div class=\"ml hero-box-mini\">\n",
              " <div class=\"ml-img ml-round hero-img {{#switch: border-blue-alt _link _md _resize\"><a href=\"/wiki/Zilong\" title=\"Zilong\"><img alt=\"Zilong.png\" class=\"lazyload\" data-image-key=\"Zilong.png\" data-image-name=\"Zilong.png\" data-src=\"https://static.wikia.nocookie.net/mobile-legends/images/6/66/Zilong.png/revision/latest/scale-to-width-down/177?cb=20200718073301\" decoding=\"async\" height=\"250\" src=\"data:image/gif;base64,R0lGODlhAQABAIABAAAAAP///yH5BAEAAAEALAAAAAABAAEAQAICTAEAOw%3D%3D\" width=\"177\"/></a></div><a href=\"/wiki/Zilong\" title=\"Zilong\">Zilong</a>\n",
              " </div>, <div class=\"ml hero-box-mini\">\n",
              " <div class=\"ml-img ml-round hero-img {{#switch: border-blue-alt _link _md _resize\"><a href=\"/wiki/Alucard\" title=\"Alucard\"><img alt=\"Alucard.png\" class=\"lazyload\" data-image-key=\"Alucard.png\" data-image-name=\"Alucard.png\" data-src=\"https://static.wikia.nocookie.net/mobile-legends/images/e/e7/Alucard.png/revision/latest/scale-to-width-down/177?cb=20200718063828\" decoding=\"async\" height=\"250\" src=\"data:image/gif;base64,R0lGODlhAQABAIABAAAAAP///yH5BAEAAAEALAAAAAABAAEAQAICTAEAOw%3D%3D\" width=\"177\"/></a></div><a href=\"/wiki/Alucard\" title=\"Alucard\">Alucard</a>\n",
              " </div>, <div class=\"ml hero-box-mini\">\n",
              " <div class=\"ml-img ml-round hero-img {{#switch: border-blue-alt _link _md _resize\"><a href=\"/wiki/Benedetta\" title=\"Benedetta\"><img alt=\"Benedetta.png\" class=\"lazyload\" data-image-key=\"Benedetta.png\" data-image-name=\"Benedetta.png\" data-src=\"https://static.wikia.nocookie.net/mobile-legends/images/f/f9/Benedetta.png/revision/latest/scale-to-width-down/177?cb=20200724022147\" decoding=\"async\" height=\"250\" src=\"data:image/gif;base64,R0lGODlhAQABAIABAAAAAP///yH5BAEAAAEALAAAAAABAAEAQAICTAEAOw%3D%3D\" width=\"177\"/></a></div><a href=\"/wiki/Benedetta\" title=\"Benedetta\">Benedetta</a>\n",
              " </div>, <div class=\"ml hero-box-mini\">\n",
              " <div class=\"ml-img ml-round hero-img {{#switch: border-blue-alt _link _md _resize\"><a href=\"/wiki/Fanny\" title=\"Fanny\"><img alt=\"Fanny.png\" class=\"lazyload\" data-image-key=\"Fanny.png\" data-image-name=\"Fanny.png\" data-src=\"https://static.wikia.nocookie.net/mobile-legends/images/5/54/Fanny.png/revision/latest/scale-to-width-down/177?cb=20190126121353\" decoding=\"async\" height=\"250\" src=\"data:image/gif;base64,R0lGODlhAQABAIABAAAAAP///yH5BAEAAAEALAAAAAABAAEAQAICTAEAOw%3D%3D\" width=\"177\"/></a></div><a href=\"/wiki/Fanny\" title=\"Fanny\">Fanny</a>\n",
              " </div>, <div class=\"ml hero-box-mini\">\n",
              " <div class=\"ml-img ml-round hero-img {{#switch: border-blue-alt _link _md _resize\"><a href=\"/wiki/Gusion\" title=\"Gusion\"><img alt=\"Gusion.png\" class=\"lazyload\" data-image-key=\"Gusion.png\" data-image-name=\"Gusion.png\" data-src=\"https://static.wikia.nocookie.net/mobile-legends/images/b/b2/Gusion.png/revision/latest/scale-to-width-down/177?cb=20200103044518\" decoding=\"async\" height=\"250\" src=\"data:image/gif;base64,R0lGODlhAQABAIABAAAAAP///yH5BAEAAAEALAAAAAABAAEAQAICTAEAOw%3D%3D\" width=\"177\"/></a></div><a href=\"/wiki/Gusion\" title=\"Gusion\">Gusion</a>\n",
              " </div>, <div class=\"ml hero-box-mini\">\n",
              " <div class=\"ml-img ml-round hero-img {{#switch: border-blue-alt _link _md _resize\"><a href=\"/wiki/Hanzo\" title=\"Hanzo\"><img alt=\"Hanzo.png\" class=\"lazyload\" data-image-key=\"Hanzo.png\" data-image-name=\"Hanzo.png\" data-src=\"https://static.wikia.nocookie.net/mobile-legends/images/f/ff/Hanzo.png/revision/latest/scale-to-width-down/177?cb=20190615172526\" decoding=\"async\" height=\"250\" src=\"data:image/gif;base64,R0lGODlhAQABAIABAAAAAP///yH5BAEAAAEALAAAAAABAAEAQAICTAEAOw%3D%3D\" width=\"177\"/></a></div><a href=\"/wiki/Hanzo\" title=\"Hanzo\">Hanzo</a>\n",
              " </div>, <div class=\"ml hero-box-mini\">\n",
              " <div class=\"ml-img ml-round hero-img {{#switch: border-blue-alt _link _md _resize\"><a href=\"/wiki/Harley\" title=\"Harley\"><img alt=\"Harley.png\" class=\"lazyload\" data-image-key=\"Harley.png\" data-image-name=\"Harley.png\" data-src=\"https://static.wikia.nocookie.net/mobile-legends/images/e/e4/Harley.png/revision/latest/scale-to-width-down/177?cb=20180820103153\" decoding=\"async\" height=\"250\" src=\"data:image/gif;base64,R0lGODlhAQABAIABAAAAAP///yH5BAEAAAEALAAAAAABAAEAQAICTAEAOw%3D%3D\" width=\"177\"/></a></div><a href=\"/wiki/Harley\" title=\"Harley\">Harley</a>\n",
              " </div>, <div class=\"ml hero-box-mini\">\n",
              " <div class=\"ml-img ml-round hero-img {{#switch: border-blue-alt _link _md _resize\"><a href=\"/wiki/Hayabusa\" title=\"Hayabusa\"><img alt=\"Hayabusa.png\" class=\"lazyload\" data-image-key=\"Hayabusa.png\" data-image-name=\"Hayabusa.png\" data-src=\"https://static.wikia.nocookie.net/mobile-legends/images/7/78/Hayabusa.png/revision/latest/scale-to-width-down/177?cb=20200613113443\" decoding=\"async\" height=\"250\" src=\"data:image/gif;base64,R0lGODlhAQABAIABAAAAAP///yH5BAEAAAEALAAAAAABAAEAQAICTAEAOw%3D%3D\" width=\"177\"/></a></div><a href=\"/wiki/Hayabusa\" title=\"Hayabusa\">Hayabusa</a>\n",
              " </div>, <div class=\"ml hero-box-mini\">\n",
              " <div class=\"ml-img ml-round hero-img {{#switch: border-blue-alt _link _md _resize\"><a href=\"/wiki/Helcurt\" title=\"Helcurt\"><img alt=\"Helcurt.png\" class=\"lazyload\" data-image-key=\"Helcurt.png\" data-image-name=\"Helcurt.png\" data-src=\"https://static.wikia.nocookie.net/mobile-legends/images/f/f6/Helcurt.png/revision/latest/scale-to-width-down/177?cb=20180820102527\" decoding=\"async\" height=\"250\" src=\"data:image/gif;base64,R0lGODlhAQABAIABAAAAAP///yH5BAEAAAEALAAAAAABAAEAQAICTAEAOw%3D%3D\" width=\"177\"/></a></div><a href=\"/wiki/Helcurt\" title=\"Helcurt\">Helcurt</a>\n",
              " </div>, <div class=\"ml hero-box-mini\">\n",
              " <div class=\"ml-img ml-round hero-img {{#switch: border-blue-alt _link _md _resize\"><a href=\"/wiki/Kadita\" title=\"Kadita\"><img alt=\"Kadita.png\" class=\"lazyload\" data-image-key=\"Kadita.png\" data-image-name=\"Kadita.png\" data-src=\"https://static.wikia.nocookie.net/mobile-legends/images/4/46/Kadita.png/revision/latest/scale-to-width-down/177?cb=20181018090458\" decoding=\"async\" height=\"250\" src=\"data:image/gif;base64,R0lGODlhAQABAIABAAAAAP///yH5BAEAAAEALAAAAAABAAEAQAICTAEAOw%3D%3D\" width=\"177\"/></a></div><a href=\"/wiki/Kadita\" title=\"Kadita\">Kadita</a>\n",
              " </div>, <div class=\"ml hero-box-mini\">\n",
              " <div class=\"ml-img ml-round hero-img {{#switch: border-blue-alt _link _md _resize\"><a href=\"/wiki/Karina\" title=\"Karina\"><img alt=\"Karina.png\" class=\"lazyload\" data-image-key=\"Karina.png\" data-image-name=\"Karina.png\" data-src=\"https://static.wikia.nocookie.net/mobile-legends/images/8/8b/Karina.png/revision/latest/scale-to-width-down/177?cb=20190319123929\" decoding=\"async\" height=\"250\" src=\"data:image/gif;base64,R0lGODlhAQABAIABAAAAAP///yH5BAEAAAEALAAAAAABAAEAQAICTAEAOw%3D%3D\" width=\"177\"/></a></div><a href=\"/wiki/Karina\" title=\"Karina\">Karina</a>\n",
              " </div>, <div class=\"ml hero-box-mini\">\n",
              " <div class=\"ml-img ml-round hero-img {{#switch: border-blue-alt _link _md _resize\"><a href=\"/wiki/Lancelot\" title=\"Lancelot\"><img alt=\"Lancelot.png\" class=\"lazyload\" data-image-key=\"Lancelot.png\" data-image-name=\"Lancelot.png\" data-src=\"https://static.wikia.nocookie.net/mobile-legends/images/c/cd/Lancelot.png/revision/latest/scale-to-width-down/177?cb=20180820102449\" decoding=\"async\" height=\"250\" src=\"data:image/gif;base64,R0lGODlhAQABAIABAAAAAP///yH5BAEAAAEALAAAAAABAAEAQAICTAEAOw%3D%3D\" width=\"177\"/></a></div><a href=\"/wiki/Lancelot\" title=\"Lancelot\">Lancelot</a>\n",
              " </div>, <div class=\"ml hero-box-mini\">\n",
              " <div class=\"ml-img ml-round hero-img {{#switch: border-blue-alt _link _md _resize\"><a href=\"/wiki/Lesley\" title=\"Lesley\"><img alt=\"Lesley.png\" class=\"lazyload\" data-image-key=\"Lesley.png\" data-image-name=\"Lesley.png\" data-src=\"https://static.wikia.nocookie.net/mobile-legends/images/6/69/Lesley.png/revision/latest/scale-to-width-down/177?cb=20200619083520\" decoding=\"async\" height=\"250\" src=\"data:image/gif;base64,R0lGODlhAQABAIABAAAAAP///yH5BAEAAAEALAAAAAABAAEAQAICTAEAOw%3D%3D\" width=\"177\"/></a></div><a href=\"/wiki/Lesley\" title=\"Lesley\">Lesley</a>\n",
              " </div>, <div class=\"ml hero-box-mini\">\n",
              " <div class=\"ml-img ml-round hero-img {{#switch: border-blue-alt _link _md _resize\"><a href=\"/wiki/Ling\" title=\"Ling\"><img alt=\"Ling.png\" class=\"lazyload\" data-image-key=\"Ling.png\" data-image-name=\"Ling.png\" data-src=\"https://static.wikia.nocookie.net/mobile-legends/images/6/6d/Ling.png/revision/latest/scale-to-width-down/177?cb=20200613112856\" decoding=\"async\" height=\"250\" src=\"data:image/gif;base64,R0lGODlhAQABAIABAAAAAP///yH5BAEAAAEALAAAAAABAAEAQAICTAEAOw%3D%3D\" width=\"177\"/></a></div><a href=\"/wiki/Ling\" title=\"Ling\">Ling</a>\n",
              " </div>, <div class=\"ml hero-box-mini\">\n",
              " <div class=\"ml-img ml-round hero-img {{#switch: border-blue-alt _link _md _resize\"><a href=\"/wiki/Mathilda\" title=\"Mathilda\"><img alt=\"Mathilda.png\" class=\"lazyload\" data-image-key=\"Mathilda.png\" data-image-name=\"Mathilda.png\" data-src=\"https://static.wikia.nocookie.net/mobile-legends/images/9/95/Mathilda.png/revision/latest/scale-to-width-down/177?cb=20200917133435\" decoding=\"async\" height=\"250\" src=\"data:image/gif;base64,R0lGODlhAQABAIABAAAAAP///yH5BAEAAAEALAAAAAABAAEAQAICTAEAOw%3D%3D\" width=\"177\"/></a></div><a href=\"/wiki/Mathilda\" title=\"Mathilda\">Mathilda</a>\n",
              " </div>, <div class=\"ml hero-box-mini\">\n",
              " <div class=\"ml-img ml-round hero-img {{#switch: border-blue-alt _link _md _resize\"><a href=\"/wiki/Natalia\" title=\"Natalia\"><img alt=\"Natalia.png\" class=\"lazyload\" data-image-key=\"Natalia.png\" data-image-name=\"Natalia.png\" data-src=\"https://static.wikia.nocookie.net/mobile-legends/images/8/82/Natalia.png/revision/latest/scale-to-width-down/177?cb=20200408115417\" decoding=\"async\" height=\"250\" src=\"data:image/gif;base64,R0lGODlhAQABAIABAAAAAP///yH5BAEAAAEALAAAAAABAAEAQAICTAEAOw%3D%3D\" width=\"177\"/></a></div><a href=\"/wiki/Natalia\" title=\"Natalia\">Natalia</a>\n",
              " </div>, <div class=\"ml hero-box-mini\">\n",
              " <div class=\"ml-img ml-round hero-img {{#switch: border-blue-alt _link _md _resize\"><a href=\"/wiki/Saber\" title=\"Saber\"><img alt=\"Saber.png\" class=\"lazyload\" data-image-key=\"Saber.png\" data-image-name=\"Saber.png\" data-src=\"https://static.wikia.nocookie.net/mobile-legends/images/2/23/Saber.png/revision/latest/scale-to-width-down/177?cb=20201009130037\" decoding=\"async\" height=\"250\" src=\"data:image/gif;base64,R0lGODlhAQABAIABAAAAAP///yH5BAEAAAEALAAAAAABAAEAQAICTAEAOw%3D%3D\" width=\"177\"/></a></div><a href=\"/wiki/Saber\" title=\"Saber\">Saber</a>\n",
              " </div>, <div class=\"ml hero-box-mini\">\n",
              " <div class=\"ml-img ml-round hero-img {{#switch: border-blue-alt _link _md _resize\"><a href=\"/wiki/Selena\" title=\"Selena\"><img alt=\"Selena.png\" class=\"lazyload\" data-image-key=\"Selena.png\" data-image-name=\"Selena.png\" data-src=\"https://static.wikia.nocookie.net/mobile-legends/images/1/1b/Selena.png/revision/latest/scale-to-width-down/177?cb=20180820102721\" decoding=\"async\" height=\"250\" src=\"data:image/gif;base64,R0lGODlhAQABAIABAAAAAP///yH5BAEAAAEALAAAAAABAAEAQAICTAEAOw%3D%3D\" width=\"177\"/></a></div><a href=\"/wiki/Selena\" title=\"Selena\">Selena</a>\n",
              " </div>, <div class=\"ml hero-box-mini\">\n",
              " <div class=\"ml-img ml-round hero-img {{#switch: border-blue-alt _link _md _resize\"><a href=\"/wiki/Yi_Sun-Shin\" title=\"Yi Sun-Shin\"><img alt=\"Yi Sun-Shin.png\" class=\"lazyload\" data-image-key=\"Yi_Sun-Shin.png\" data-image-name=\"Yi Sun-Shin.png\" data-src=\"https://static.wikia.nocookie.net/mobile-legends/images/f/ff/Yi_Sun-Shin.png/revision/latest/scale-to-width-down/177?cb=20200606110618\" decoding=\"async\" height=\"250\" src=\"data:image/gif;base64,R0lGODlhAQABAIABAAAAAP///yH5BAEAAAEALAAAAAABAAEAQAICTAEAOw%3D%3D\" width=\"177\"/></a></div><a href=\"/wiki/Yi_Sun-Shin\" title=\"Yi Sun-Shin\">Yi Sun-Shin</a>\n",
              " </div>, <div class=\"ml hero-box-mini\">\n",
              " <div class=\"ml-img ml-round hero-img {{#switch: border-blue-alt _link _md _resize\"><a href=\"/wiki/Zilong\" title=\"Zilong\"><img alt=\"Zilong.png\" class=\"lazyload\" data-image-key=\"Zilong.png\" data-image-name=\"Zilong.png\" data-src=\"https://static.wikia.nocookie.net/mobile-legends/images/6/66/Zilong.png/revision/latest/scale-to-width-down/177?cb=20200718073301\" decoding=\"async\" height=\"250\" src=\"data:image/gif;base64,R0lGODlhAQABAIABAAAAAP///yH5BAEAAAEALAAAAAABAAEAQAICTAEAOw%3D%3D\" width=\"177\"/></a></div><a href=\"/wiki/Zilong\" title=\"Zilong\">Zilong</a>\n",
              " </div>, <div class=\"ml hero-box-mini\">\n",
              " <div class=\"ml-img ml-round hero-img {{#switch: border-blue-alt _link _md _resize\"><a href=\"/wiki/Alice\" title=\"Alice\"><img alt=\"Alice.png\" class=\"lazyload\" data-image-key=\"Alice.png\" data-image-name=\"Alice.png\" data-src=\"https://static.wikia.nocookie.net/mobile-legends/images/8/82/Alice.png/revision/latest/scale-to-width-down/177?cb=20190116120813\" decoding=\"async\" height=\"250\" src=\"data:image/gif;base64,R0lGODlhAQABAIABAAAAAP///yH5BAEAAAEALAAAAAABAAEAQAICTAEAOw%3D%3D\" width=\"177\"/></a></div><a href=\"/wiki/Alice\" title=\"Alice\">Alice</a>\n",
              " </div>, <div class=\"ml hero-box-mini\">\n",
              " <div class=\"ml-img ml-round hero-img {{#switch: border-blue-alt _link _md _resize\"><a href=\"/wiki/Aurora\" title=\"Aurora\"><img alt=\"Aurora.png\" class=\"lazyload\" data-image-key=\"Aurora.png\" data-image-name=\"Aurora.png\" data-src=\"https://static.wikia.nocookie.net/mobile-legends/images/8/89/Aurora.png/revision/latest/scale-to-width-down/177?cb=20180820103050\" decoding=\"async\" height=\"250\" src=\"data:image/gif;base64,R0lGODlhAQABAIABAAAAAP///yH5BAEAAAEALAAAAAABAAEAQAICTAEAOw%3D%3D\" width=\"177\"/></a></div><a href=\"/wiki/Aurora\" title=\"Aurora\">Aurora</a>\n",
              " </div>, <div class=\"ml hero-box-mini\">\n",
              " <div class=\"ml-img ml-round hero-img {{#switch: border-blue-alt _link _md _resize\"><a href=\"/wiki/Cecilion\" title=\"Cecilion\"><img alt=\"Cecilion.png\" class=\"lazyload\" data-image-key=\"Cecilion.png\" data-image-name=\"Cecilion.png\" data-src=\"https://static.wikia.nocookie.net/mobile-legends/images/4/41/Cecilion.png/revision/latest/scale-to-width-down/177?cb=20200414144131\" decoding=\"async\" height=\"250\" src=\"data:image/gif;base64,R0lGODlhAQABAIABAAAAAP///yH5BAEAAAEALAAAAAABAAEAQAICTAEAOw%3D%3D\" width=\"177\"/></a></div><a href=\"/wiki/Cecilion\" title=\"Cecilion\">Cecilion</a>\n",
              " </div>, <div class=\"ml hero-box-mini\">\n",
              " <div class=\"ml-img ml-round hero-img {{#switch: border-blue-alt _link _md _resize\"><a href=\"/wiki/Chang%27e\" title=\"Chang'e\"><img alt=\"Chang'e.png\" class=\"lazyload\" data-image-key=\"Chang'e.png\" data-image-name=\"Chang'e.png\" data-src=\"https://static.wikia.nocookie.net/mobile-legends/images/8/87/Chang%27e.png/revision/latest/scale-to-width-down/177?cb=20200413110204\" decoding=\"async\" height=\"250\" src=\"data:image/gif;base64,R0lGODlhAQABAIABAAAAAP///yH5BAEAAAEALAAAAAABAAEAQAICTAEAOw%3D%3D\" width=\"177\"/></a></div><a href=\"/wiki/Chang%27e\" title=\"Chang'e\">Chang'e</a>\n",
              " </div>, <div class=\"ml hero-box-mini\">\n",
              " <div class=\"ml-img ml-round hero-img {{#switch: border-blue-alt _link _md _resize\"><a href=\"/wiki/Cyclops\" title=\"Cyclops\"><img alt=\"Cyclops.png\" class=\"lazyload\" data-image-key=\"Cyclops.png\" data-image-name=\"Cyclops.png\" data-src=\"https://static.wikia.nocookie.net/mobile-legends/images/a/a9/Cyclops.png/revision/latest/scale-to-width-down/177?cb=20180820103038\" decoding=\"async\" height=\"250\" src=\"data:image/gif;base64,R0lGODlhAQABAIABAAAAAP///yH5BAEAAAEALAAAAAABAAEAQAICTAEAOw%3D%3D\" width=\"177\"/></a></div><a href=\"/wiki/Cyclops\" title=\"Cyclops\">Cyclops</a>\n",
              " </div>, <div class=\"ml hero-box-mini\">\n",
              " <div class=\"ml-img ml-round hero-img {{#switch: border-blue-alt _link _md _resize\"><a href=\"/wiki/Esmeralda\" title=\"Esmeralda\"><img alt=\"Esmeralda.png\" class=\"lazyload\" data-image-key=\"Esmeralda.png\" data-image-name=\"Esmeralda.png\" data-src=\"https://static.wikia.nocookie.net/mobile-legends/images/d/d1/Esmeralda.png/revision/latest/scale-to-width-down/177?cb=20190315124914\" decoding=\"async\" height=\"250\" src=\"data:image/gif;base64,R0lGODlhAQABAIABAAAAAP///yH5BAEAAAEALAAAAAABAAEAQAICTAEAOw%3D%3D\" width=\"177\"/></a></div><a href=\"/wiki/Esmeralda\" title=\"Esmeralda\">Esmeralda</a>\n",
              " </div>, <div class=\"ml hero-box-mini\">\n",
              " <div class=\"ml-img ml-round hero-img {{#switch: border-blue-alt _link _md _resize\"><a href=\"/wiki/Eudora\" title=\"Eudora\"><img alt=\"Eudora.png\" class=\"lazyload\" data-image-key=\"Eudora.png\" data-image-name=\"Eudora.png\" data-src=\"https://static.wikia.nocookie.net/mobile-legends/images/9/93/Eudora.png/revision/latest/scale-to-width-down/177?cb=20201009125708\" decoding=\"async\" height=\"250\" src=\"data:image/gif;base64,R0lGODlhAQABAIABAAAAAP///yH5BAEAAAEALAAAAAABAAEAQAICTAEAOw%3D%3D\" width=\"177\"/></a></div><a href=\"/wiki/Eudora\" title=\"Eudora\">Eudora</a>\n",
              " </div>, <div class=\"ml hero-box-mini\">\n",
              " <div class=\"ml-img ml-round hero-img {{#switch: border-blue-alt _link _md _resize\"><a href=\"/wiki/Faramis\" title=\"Faramis\"><img alt=\"Faramis.png\" class=\"lazyload\" data-image-key=\"Faramis.png\" data-image-name=\"Faramis.png\" data-src=\"https://static.wikia.nocookie.net/mobile-legends/images/7/72/Faramis.png/revision/latest/scale-to-width-down/177?cb=20190104071559\" decoding=\"async\" height=\"250\" src=\"data:image/gif;base64,R0lGODlhAQABAIABAAAAAP///yH5BAEAAAEALAAAAAABAAEAQAICTAEAOw%3D%3D\" width=\"177\"/></a></div><a href=\"/wiki/Faramis\" title=\"Faramis\">Faramis</a>\n",
              " </div>, <div class=\"ml hero-box-mini\">\n",
              " <div class=\"ml-img ml-round hero-img {{#switch: border-blue-alt _link _md _resize\"><a href=\"/wiki/Gord\" title=\"Gord\"><img alt=\"Gord.png\" class=\"lazyload\" data-image-key=\"Gord.png\" data-image-name=\"Gord.png\" data-src=\"https://static.wikia.nocookie.net/mobile-legends/images/3/34/Gord.png/revision/latest/scale-to-width-down/177?cb=20180820103027\" decoding=\"async\" height=\"250\" src=\"data:image/gif;base64,R0lGODlhAQABAIABAAAAAP///yH5BAEAAAEALAAAAAABAAEAQAICTAEAOw%3D%3D\" width=\"177\"/></a></div><a href=\"/wiki/Gord\" title=\"Gord\">Gord</a>\n",
              " </div>, <div class=\"ml hero-box-mini\">\n",
              " <div class=\"ml-img ml-round hero-img {{#switch: border-blue-alt _link _md _resize\"><a href=\"/wiki/Harith\" title=\"Harith\"><img alt=\"Harith.png\" class=\"lazyload\" data-image-key=\"Harith.png\" data-image-name=\"Harith.png\" data-src=\"https://static.wikia.nocookie.net/mobile-legends/images/6/60/Harith.png/revision/latest/scale-to-width-down/177?cb=20200824110705\" decoding=\"async\" height=\"250\" src=\"data:image/gif;base64,R0lGODlhAQABAIABAAAAAP///yH5BAEAAAEALAAAAAABAAEAQAICTAEAOw%3D%3D\" width=\"177\"/></a></div><a href=\"/wiki/Harith\" title=\"Harith\">Harith</a>\n",
              " </div>, <div class=\"ml hero-box-mini\">\n",
              " <div class=\"ml-img ml-round hero-img {{#switch: border-blue-alt _link _md _resize\"><a href=\"/wiki/Harley\" title=\"Harley\"><img alt=\"Harley.png\" class=\"lazyload\" data-image-key=\"Harley.png\" data-image-name=\"Harley.png\" data-src=\"https://static.wikia.nocookie.net/mobile-legends/images/e/e4/Harley.png/revision/latest/scale-to-width-down/177?cb=20180820103153\" decoding=\"async\" height=\"250\" src=\"data:image/gif;base64,R0lGODlhAQABAIABAAAAAP///yH5BAEAAAEALAAAAAABAAEAQAICTAEAOw%3D%3D\" width=\"177\"/></a></div><a href=\"/wiki/Harley\" title=\"Harley\">Harley</a>\n",
              " </div>, <div class=\"ml hero-box-mini\">\n",
              " <div class=\"ml-img ml-round hero-img {{#switch: border-blue-alt _link _md _resize\"><a href=\"/wiki/Kadita\" title=\"Kadita\"><img alt=\"Kadita.png\" class=\"lazyload\" data-image-key=\"Kadita.png\" data-image-name=\"Kadita.png\" data-src=\"https://static.wikia.nocookie.net/mobile-legends/images/4/46/Kadita.png/revision/latest/scale-to-width-down/177?cb=20181018090458\" decoding=\"async\" height=\"250\" src=\"data:image/gif;base64,R0lGODlhAQABAIABAAAAAP///yH5BAEAAAEALAAAAAABAAEAQAICTAEAOw%3D%3D\" width=\"177\"/></a></div><a href=\"/wiki/Kadita\" title=\"Kadita\">Kadita</a>\n",
              " </div>, <div class=\"ml hero-box-mini\">\n",
              " <div class=\"ml-img ml-round hero-img {{#switch: border-blue-alt _link _md _resize\"><a href=\"/wiki/Kagura\" title=\"Kagura\"><img alt=\"Kagura.png\" class=\"lazyload\" data-image-key=\"Kagura.png\" data-image-name=\"Kagura.png\" data-src=\"https://static.wikia.nocookie.net/mobile-legends/images/a/af/Kagura.png/revision/latest/scale-to-width-down/177?cb=20180909042909\" decoding=\"async\" height=\"250\" src=\"data:image/gif;base64,R0lGODlhAQABAIABAAAAAP///yH5BAEAAAEALAAAAAABAAEAQAICTAEAOw%3D%3D\" width=\"177\"/></a></div><a href=\"/wiki/Kagura\" title=\"Kagura\">Kagura</a>\n",
              " </div>, <div class=\"ml hero-box-mini\">\n",
              " <div class=\"ml-img ml-round hero-img {{#switch: border-blue-alt _link _md _resize\"><a href=\"/wiki/Kimmy\" title=\"Kimmy\"><img alt=\"Kimmy.png\" class=\"lazyload\" data-image-key=\"Kimmy.png\" data-image-name=\"Kimmy.png\" data-src=\"https://static.wikia.nocookie.net/mobile-legends/images/6/65/Kimmy.png/revision/latest/scale-to-width-down/177?cb=20190615171335\" decoding=\"async\" height=\"250\" src=\"data:image/gif;base64,R0lGODlhAQABAIABAAAAAP///yH5BAEAAAEALAAAAAABAAEAQAICTAEAOw%3D%3D\" width=\"177\"/></a></div><a href=\"/wiki/Kimmy\" title=\"Kimmy\">Kimmy</a>\n",
              " </div>, <div class=\"ml hero-box-mini\">\n",
              " <div class=\"ml-img ml-round hero-img {{#switch: border-blue-alt _link _md _resize\"><a href=\"/wiki/Lunox\" title=\"Lunox\"><img alt=\"Lunox.png\" class=\"lazyload\" data-image-key=\"Lunox.png\" data-image-name=\"Lunox.png\" data-src=\"https://static.wikia.nocookie.net/mobile-legends/images/e/ed/Lunox.png/revision/latest/scale-to-width-down/177?cb=20190615171415\" decoding=\"async\" height=\"250\" src=\"data:image/gif;base64,R0lGODlhAQABAIABAAAAAP///yH5BAEAAAEALAAAAAABAAEAQAICTAEAOw%3D%3D\" width=\"177\"/></a></div><a href=\"/wiki/Lunox\" title=\"Lunox\">Lunox</a>\n",
              " </div>, <div class=\"ml hero-box-mini\">\n",
              " <div class=\"ml-img ml-round hero-img {{#switch: border-blue-alt _link _md _resize\"><a href=\"/wiki/Luo_Yi\" title=\"Luo Yi\"><img alt=\"Luo Yi.png\" class=\"lazyload\" data-image-key=\"Luo_Yi.png\" data-image-name=\"Luo Yi.png\" data-src=\"https://static.wikia.nocookie.net/mobile-legends/images/0/02/Luo_Yi.png/revision/latest/scale-to-width-down/177?cb=20200505113319\" decoding=\"async\" height=\"250\" src=\"data:image/gif;base64,R0lGODlhAQABAIABAAAAAP///yH5BAEAAAEALAAAAAABAAEAQAICTAEAOw%3D%3D\" width=\"177\"/></a></div><a href=\"/wiki/Luo_Yi\" title=\"Luo Yi\">Luo Yi</a>\n",
              " </div>, <div class=\"ml hero-box-mini\">\n",
              " <div class=\"ml-img ml-round hero-img {{#switch: border-blue-alt _link _md _resize\"><a href=\"/wiki/Lylia\" title=\"Lylia\"><img alt=\"Lylia.png\" class=\"lazyload\" data-image-key=\"Lylia.png\" data-image-name=\"Lylia.png\" data-src=\"https://static.wikia.nocookie.net/mobile-legends/images/6/61/Lylia.png/revision/latest/scale-to-width-down/177?cb=20200408115159\" decoding=\"async\" height=\"250\" src=\"data:image/gif;base64,R0lGODlhAQABAIABAAAAAP///yH5BAEAAAEALAAAAAABAAEAQAICTAEAOw%3D%3D\" width=\"177\"/></a></div><a href=\"/wiki/Lylia\" title=\"Lylia\">Lylia</a>\n",
              " </div>, <div class=\"ml hero-box-mini\">\n",
              " <div class=\"ml-img ml-round hero-img {{#switch: border-blue-alt _link _md _resize\"><a href=\"/wiki/Nana\" title=\"Nana\"><img alt=\"Nana.png\" class=\"lazyload\" data-image-key=\"Nana.png\" data-image-name=\"Nana.png\" data-src=\"https://static.wikia.nocookie.net/mobile-legends/images/3/38/Nana.png/revision/latest/scale-to-width-down/177?cb=20190116120936\" decoding=\"async\" height=\"250\" src=\"data:image/gif;base64,R0lGODlhAQABAIABAAAAAP///yH5BAEAAAEALAAAAAABAAEAQAICTAEAOw%3D%3D\" width=\"177\"/></a></div><a href=\"/wiki/Nana\" title=\"Nana\">Nana</a>\n",
              " </div>, <div class=\"ml hero-box-mini\">\n",
              " <div class=\"ml-img ml-round hero-img {{#switch: border-blue-alt _link _md _resize\"><a href=\"/wiki/Odette\" title=\"Odette\"><img alt=\"Odette.png\" class=\"lazyload\" data-image-key=\"Odette.png\" data-image-name=\"Odette.png\" data-src=\"https://static.wikia.nocookie.net/mobile-legends/images/2/28/Odette.png/revision/latest/scale-to-width-down/177?cb=20200530114819\" decoding=\"async\" height=\"250\" src=\"data:image/gif;base64,R0lGODlhAQABAIABAAAAAP///yH5BAEAAAEALAAAAAABAAEAQAICTAEAOw%3D%3D\" width=\"177\"/></a></div><a href=\"/wiki/Odette\" title=\"Odette\">Odette</a>\n",
              " </div>, <div class=\"ml hero-box-mini\">\n",
              " <div class=\"ml-img ml-round hero-img {{#switch: border-blue-alt _link _md _resize\"><a href=\"/wiki/Pharsa\" title=\"Pharsa\"><img alt=\"Pharsa.png\" class=\"lazyload\" data-image-key=\"Pharsa.png\" data-image-name=\"Pharsa.png\" data-src=\"https://static.wikia.nocookie.net/mobile-legends/images/7/7b/Pharsa.png/revision/latest/scale-to-width-down/177?cb=20180820103235\" decoding=\"async\" height=\"250\" src=\"data:image/gif;base64,R0lGODlhAQABAIABAAAAAP///yH5BAEAAAEALAAAAAABAAEAQAICTAEAOw%3D%3D\" width=\"177\"/></a></div><a href=\"/wiki/Pharsa\" title=\"Pharsa\">Pharsa</a>\n",
              " </div>, <div class=\"ml hero-box-mini\">\n",
              " <div class=\"ml-img ml-round hero-img {{#switch: border-blue-alt _link _md _resize\"><a href=\"/wiki/Selena\" title=\"Selena\"><img alt=\"Selena.png\" class=\"lazyload\" data-image-key=\"Selena.png\" data-image-name=\"Selena.png\" data-src=\"https://static.wikia.nocookie.net/mobile-legends/images/1/1b/Selena.png/revision/latest/scale-to-width-down/177?cb=20180820102721\" decoding=\"async\" height=\"250\" src=\"data:image/gif;base64,R0lGODlhAQABAIABAAAAAP///yH5BAEAAAEALAAAAAABAAEAQAICTAEAOw%3D%3D\" width=\"177\"/></a></div><a href=\"/wiki/Selena\" title=\"Selena\">Selena</a>\n",
              " </div>, <div class=\"ml hero-box-mini\">\n",
              " <div class=\"ml-img ml-round hero-img {{#switch: border-blue-alt _link _md _resize\"><a href=\"/wiki/Vale\" title=\"Vale\"><img alt=\"Vale.png\" class=\"lazyload\" data-image-key=\"Vale.png\" data-image-name=\"Vale.png\" data-src=\"https://static.wikia.nocookie.net/mobile-legends/images/6/63/Vale.png/revision/latest/scale-to-width-down/177?cb=20190615171250\" decoding=\"async\" height=\"250\" src=\"data:image/gif;base64,R0lGODlhAQABAIABAAAAAP///yH5BAEAAAEALAAAAAABAAEAQAICTAEAOw%3D%3D\" width=\"177\"/></a></div><a href=\"/wiki/Vale\" title=\"Vale\">Vale</a>\n",
              " </div>, <div class=\"ml hero-box-mini\">\n",
              " <div class=\"ml-img ml-round hero-img {{#switch: border-blue-alt _link _md _resize\"><a href=\"/wiki/Valir\" title=\"Valir\"><img alt=\"Valir.png\" class=\"lazyload\" data-image-key=\"Valir.png\" data-image-name=\"Valir.png\" data-src=\"https://static.wikia.nocookie.net/mobile-legends/images/9/95/Valir.png/revision/latest/scale-to-width-down/177?cb=20200402105837\" decoding=\"async\" height=\"250\" src=\"data:image/gif;base64,R0lGODlhAQABAIABAAAAAP///yH5BAEAAAEALAAAAAABAAEAQAICTAEAOw%3D%3D\" width=\"177\"/></a></div><a href=\"/wiki/Valir\" title=\"Valir\">Valir</a>\n",
              " </div>, <div class=\"ml hero-box-mini\">\n",
              " <div class=\"ml-img ml-round hero-img {{#switch: border-blue-alt _link _md _resize\"><a href=\"/wiki/Vexana\" title=\"Vexana\"><img alt=\"Vexana.png\" class=\"lazyload\" data-image-key=\"Vexana.png\" data-image-name=\"Vexana.png\" data-src=\"https://static.wikia.nocookie.net/mobile-legends/images/0/0a/Vexana.png/revision/latest/scale-to-width-down/177?cb=20190116115559\" decoding=\"async\" height=\"250\" src=\"data:image/gif;base64,R0lGODlhAQABAIABAAAAAP///yH5BAEAAAEALAAAAAABAAEAQAICTAEAOw%3D%3D\" width=\"177\"/></a></div><a href=\"/wiki/Vexana\" title=\"Vexana\">Vexana</a>\n",
              " </div>, <div class=\"ml hero-box-mini\">\n",
              " <div class=\"ml-img ml-round hero-img {{#switch: border-blue-alt _link _md _resize\"><a href=\"/wiki/Yve\" title=\"Yve\"><img alt=\"Yve.png\" class=\"lazyload\" data-image-key=\"Yve.png\" data-image-name=\"Yve.png\" data-src=\"https://static.wikia.nocookie.net/mobile-legends/images/3/3d/Yve.png/revision/latest/scale-to-width-down/177?cb=20200824095646\" decoding=\"async\" height=\"250\" src=\"data:image/gif;base64,R0lGODlhAQABAIABAAAAAP///yH5BAEAAAEALAAAAAABAAEAQAICTAEAOw%3D%3D\" width=\"177\"/></a></div><a href=\"/wiki/Yve\" title=\"Yve\">Yve</a>\n",
              " </div>, <div class=\"ml hero-box-mini\">\n",
              " <div class=\"ml-img ml-round hero-img {{#switch: border-blue-alt _link _md _resize\"><a href=\"/wiki/Zhask\" title=\"Zhask\"><img alt=\"Zhask.png\" class=\"lazyload\" data-image-key=\"Zhask.png\" data-image-name=\"Zhask.png\" data-src=\"https://static.wikia.nocookie.net/mobile-legends/images/f/f6/Zhask.png/revision/latest/scale-to-width-down/177?cb=20180820103221\" decoding=\"async\" height=\"250\" src=\"data:image/gif;base64,R0lGODlhAQABAIABAAAAAP///yH5BAEAAAEALAAAAAABAAEAQAICTAEAOw%3D%3D\" width=\"177\"/></a></div><a href=\"/wiki/Zhask\" title=\"Zhask\">Zhask</a>\n",
              " </div>, <div class=\"ml hero-box-mini\">\n",
              " <div class=\"ml-img ml-round hero-img {{#switch: border-blue-alt _link _md _resize\"><a href=\"/wiki/Brody\" title=\"Brody\"><img alt=\"Brody.png\" class=\"lazyload\" data-image-key=\"Brody.png\" data-image-name=\"Brody.png\" data-src=\"https://static.wikia.nocookie.net/mobile-legends/images/4/4c/Brody.png/revision/latest/scale-to-width-down/177?cb=20200918111615\" decoding=\"async\" height=\"250\" src=\"data:image/gif;base64,R0lGODlhAQABAIABAAAAAP///yH5BAEAAAEALAAAAAABAAEAQAICTAEAOw%3D%3D\" width=\"177\"/></a></div><a href=\"/wiki/Brody\" title=\"Brody\">Brody</a>\n",
              " </div>, <div class=\"ml hero-box-mini\">\n",
              " <div class=\"ml-img ml-round hero-img {{#switch: border-blue-alt _link _md _resize\"><a href=\"/wiki/Bruno\" title=\"Bruno\"><img alt=\"Bruno.png\" class=\"lazyload\" data-image-key=\"Bruno.png\" data-image-name=\"Bruno.png\" data-src=\"https://static.wikia.nocookie.net/mobile-legends/images/e/e7/Bruno.png/revision/latest/scale-to-width-down/177?cb=20180820103530\" decoding=\"async\" height=\"250\" src=\"data:image/gif;base64,R0lGODlhAQABAIABAAAAAP///yH5BAEAAAEALAAAAAABAAEAQAICTAEAOw%3D%3D\" width=\"177\"/></a></div><a href=\"/wiki/Bruno\" title=\"Bruno\">Bruno</a>\n",
              " </div>, <div class=\"ml hero-box-mini\">\n",
              " <div class=\"ml-img ml-round hero-img {{#switch: border-blue-alt _link _md _resize\"><a href=\"/wiki/Claude\" title=\"Claude\"><img alt=\"Claude.png\" class=\"lazyload\" data-image-key=\"Claude.png\" data-image-name=\"Claude.png\" data-src=\"https://static.wikia.nocookie.net/mobile-legends/images/0/0b/Claude.png/revision/latest/scale-to-width-down/177?cb=20190615171431\" decoding=\"async\" height=\"250\" src=\"data:image/gif;base64,R0lGODlhAQABAIABAAAAAP///yH5BAEAAAEALAAAAAABAAEAQAICTAEAOw%3D%3D\" width=\"177\"/></a></div><a href=\"/wiki/Claude\" title=\"Claude\">Claude</a>\n",
              " </div>, <div class=\"ml hero-box-mini\">\n",
              " <div class=\"ml-img ml-round hero-img {{#switch: border-blue-alt _link _md _resize\"><a href=\"/wiki/Clint\" title=\"Clint\"><img alt=\"Clint.png\" class=\"lazyload\" data-image-key=\"Clint.png\" data-image-name=\"Clint.png\" data-src=\"https://static.wikia.nocookie.net/mobile-legends/images/3/31/Clint.png/revision/latest/scale-to-width-down/177?cb=20200408115115\" decoding=\"async\" height=\"250\" src=\"data:image/gif;base64,R0lGODlhAQABAIABAAAAAP///yH5BAEAAAEALAAAAAABAAEAQAICTAEAOw%3D%3D\" width=\"177\"/></a></div><a href=\"/wiki/Clint\" title=\"Clint\">Clint</a>\n",
              " </div>, <div class=\"ml hero-box-mini\">\n",
              " <div class=\"ml-img ml-round hero-img {{#switch: border-blue-alt _link _md _resize\"><a href=\"/wiki/Granger\" title=\"Granger\"><img alt=\"Granger.png\" class=\"lazyload\" data-image-key=\"Granger.png\" data-image-name=\"Granger.png\" data-src=\"https://static.wikia.nocookie.net/mobile-legends/images/4/4d/Granger.png/revision/latest/scale-to-width-down/177?cb=20200824104644\" decoding=\"async\" height=\"250\" src=\"data:image/gif;base64,R0lGODlhAQABAIABAAAAAP///yH5BAEAAAEALAAAAAABAAEAQAICTAEAOw%3D%3D\" width=\"177\"/></a></div><a href=\"/wiki/Granger\" title=\"Granger\">Granger</a>\n",
              " </div>, <div class=\"ml hero-box-mini\">\n",
              " <div class=\"ml-img ml-round hero-img {{#switch: border-blue-alt _link _md _resize\"><a href=\"/wiki/Hanabi\" title=\"Hanabi\"><img alt=\"Hanabi.png\" class=\"lazyload\" data-image-key=\"Hanabi.png\" data-image-name=\"Hanabi.png\" data-src=\"https://static.wikia.nocookie.net/mobile-legends/images/0/0e/Hanabi.png/revision/latest/scale-to-width-down/177?cb=20190615171052\" decoding=\"async\" height=\"250\" src=\"data:image/gif;base64,R0lGODlhAQABAIABAAAAAP///yH5BAEAAAEALAAAAAABAAEAQAICTAEAOw%3D%3D\" width=\"177\"/></a></div><a href=\"/wiki/Hanabi\" title=\"Hanabi\">Hanabi</a>\n",
              " </div>, <div class=\"ml hero-box-mini\">\n",
              " <div class=\"ml-img ml-round hero-img {{#switch: border-blue-alt _link _md _resize\"><a href=\"/wiki/Irithel\" title=\"Irithel\"><img alt=\"Irithel.png\" class=\"lazyload\" data-image-key=\"Irithel.png\" data-image-name=\"Irithel.png\" data-src=\"https://static.wikia.nocookie.net/mobile-legends/images/6/6b/Irithel.png/revision/latest/scale-to-width-down/177?cb=20190615170935\" decoding=\"async\" height=\"250\" src=\"data:image/gif;base64,R0lGODlhAQABAIABAAAAAP///yH5BAEAAAEALAAAAAABAAEAQAICTAEAOw%3D%3D\" width=\"177\"/></a></div><a href=\"/wiki/Irithel\" title=\"Irithel\">Irithel</a>\n",
              " </div>, <div class=\"ml hero-box-mini\">\n",
              " <div class=\"ml-img ml-round hero-img {{#switch: border-blue-alt _link _md _resize\"><a href=\"/wiki/Karrie\" title=\"Karrie\"><img alt=\"Karrie.png\" class=\"lazyload\" data-image-key=\"Karrie.png\" data-image-name=\"Karrie.png\" data-src=\"https://static.wikia.nocookie.net/mobile-legends/images/1/11/Karrie.png/revision/latest/scale-to-width-down/177?cb=20190615171117\" decoding=\"async\" height=\"250\" src=\"data:image/gif;base64,R0lGODlhAQABAIABAAAAAP///yH5BAEAAAEALAAAAAABAAEAQAICTAEAOw%3D%3D\" width=\"177\"/></a></div><a href=\"/wiki/Karrie\" title=\"Karrie\">Karrie</a>\n",
              " </div>, <div class=\"ml hero-box-mini\">\n",
              " <div class=\"ml-img ml-round hero-img {{#switch: border-blue-alt _link _md _resize\"><a href=\"/wiki/Kimmy\" title=\"Kimmy\"><img alt=\"Kimmy.png\" class=\"lazyload\" data-image-key=\"Kimmy.png\" data-image-name=\"Kimmy.png\" data-src=\"https://static.wikia.nocookie.net/mobile-legends/images/6/65/Kimmy.png/revision/latest/scale-to-width-down/177?cb=20190615171335\" decoding=\"async\" height=\"250\" src=\"data:image/gif;base64,R0lGODlhAQABAIABAAAAAP///yH5BAEAAAEALAAAAAABAAEAQAICTAEAOw%3D%3D\" width=\"177\"/></a></div><a href=\"/wiki/Kimmy\" title=\"Kimmy\">Kimmy</a>\n",
              " </div>, <div class=\"ml hero-box-mini\">\n",
              " <div class=\"ml-img ml-round hero-img {{#switch: border-blue-alt _link _md _resize\"><a href=\"/wiki/Layla\" title=\"Layla\"><img alt=\"Layla.png\" class=\"lazyload\" data-image-key=\"Layla.png\" data-image-name=\"Layla.png\" data-src=\"https://static.wikia.nocookie.net/mobile-legends/images/c/c8/Layla.png/revision/latest/scale-to-width-down/177?cb=20201009125850\" decoding=\"async\" height=\"250\" src=\"data:image/gif;base64,R0lGODlhAQABAIABAAAAAP///yH5BAEAAAEALAAAAAABAAEAQAICTAEAOw%3D%3D\" width=\"177\"/></a></div><a href=\"/wiki/Layla\" title=\"Layla\">Layla</a>\n",
              " </div>, <div class=\"ml hero-box-mini\">\n",
              " <div class=\"ml-img ml-round hero-img {{#switch: border-blue-alt _link _md _resize\"><a href=\"/wiki/Lesley\" title=\"Lesley\"><img alt=\"Lesley.png\" class=\"lazyload\" data-image-key=\"Lesley.png\" data-image-name=\"Lesley.png\" data-src=\"https://static.wikia.nocookie.net/mobile-legends/images/6/69/Lesley.png/revision/latest/scale-to-width-down/177?cb=20200619083520\" decoding=\"async\" height=\"250\" src=\"data:image/gif;base64,R0lGODlhAQABAIABAAAAAP///yH5BAEAAAEALAAAAAABAAEAQAICTAEAOw%3D%3D\" width=\"177\"/></a></div><a href=\"/wiki/Lesley\" title=\"Lesley\">Lesley</a>\n",
              " </div>, <div class=\"ml hero-box-mini\">\n",
              " <div class=\"ml-img ml-round hero-img {{#switch: border-blue-alt _link _md _resize\"><a href=\"/wiki/Miya\" title=\"Miya\"><img alt=\"Miya.png\" class=\"lazyload\" data-image-key=\"Miya.png\" data-image-name=\"Miya.png\" data-src=\"https://static.wikia.nocookie.net/mobile-legends/images/3/37/Miya.png/revision/latest/scale-to-width-down/177?cb=20200726193557\" decoding=\"async\" height=\"250\" src=\"data:image/gif;base64,R0lGODlhAQABAIABAAAAAP///yH5BAEAAAEALAAAAAABAAEAQAICTAEAOw%3D%3D\" width=\"177\"/></a></div><a href=\"/wiki/Miya\" title=\"Miya\">Miya</a>\n",
              " </div>, <div class=\"ml hero-box-mini\">\n",
              " <div class=\"ml-img ml-round hero-img {{#switch: border-blue-alt _link _md _resize\"><a href=\"/wiki/Moskov\" title=\"Moskov\"><img alt=\"Moskov.png\" class=\"lazyload\" data-image-key=\"Moskov.png\" data-image-name=\"Moskov.png\" data-src=\"https://static.wikia.nocookie.net/mobile-legends/images/8/82/Moskov.png/revision/latest/scale-to-width-down/177?cb=20190615171609\" decoding=\"async\" height=\"250\" src=\"data:image/gif;base64,R0lGODlhAQABAIABAAAAAP///yH5BAEAAAEALAAAAAABAAEAQAICTAEAOw%3D%3D\" width=\"177\"/></a></div><a href=\"/wiki/Moskov\" title=\"Moskov\">Moskov</a>\n",
              " </div>, <div class=\"ml hero-box-mini\">\n",
              " <div class=\"ml-img ml-round hero-img {{#switch: border-blue-alt _link _md _resize\"><a href=\"/wiki/Popol_and_Kupa\" title=\"Popol and Kupa\"><img alt=\"Popol and Kupa.png\" class=\"lazyload\" data-image-key=\"Popol_and_Kupa.png\" data-image-name=\"Popol and Kupa.png\" data-src=\"https://static.wikia.nocookie.net/mobile-legends/images/f/fb/Popol_and_Kupa.png/revision/latest/scale-to-width-down/177?cb=20200414144211\" decoding=\"async\" height=\"249\" src=\"data:image/gif;base64,R0lGODlhAQABAIABAAAAAP///yH5BAEAAAEALAAAAAABAAEAQAICTAEAOw%3D%3D\" width=\"177\"/></a></div><a href=\"/wiki/Popol_and_Kupa\" title=\"Popol and Kupa\">Popol and Kupa</a>\n",
              " </div>, <div class=\"ml hero-box-mini\">\n",
              " <div class=\"ml-img ml-round hero-img {{#switch: border-blue-alt _link _md _resize\"><a href=\"/wiki/Roger\" title=\"Roger\"><img alt=\"Roger.png\" class=\"lazyload\" data-image-key=\"Roger.png\" data-image-name=\"Roger.png\" data-src=\"https://static.wikia.nocookie.net/mobile-legends/images/c/c7/Roger.png/revision/latest/scale-to-width-down/177?cb=20190615170753\" decoding=\"async\" height=\"250\" src=\"data:image/gif;base64,R0lGODlhAQABAIABAAAAAP///yH5BAEAAAEALAAAAAABAAEAQAICTAEAOw%3D%3D\" width=\"177\"/></a></div><a href=\"/wiki/Roger\" title=\"Roger\">Roger</a>\n",
              " </div>, <div class=\"ml hero-box-mini\">\n",
              " <div class=\"ml-img ml-round hero-img {{#switch: border-blue-alt _link _md _resize\"><a href=\"/wiki/Wanwan\" title=\"Wanwan\"><img alt=\"Wanwan.png\" class=\"lazyload\" data-image-key=\"Wanwan.png\" data-image-name=\"Wanwan.png\" data-src=\"https://static.wikia.nocookie.net/mobile-legends/images/5/5c/Wanwan.png/revision/latest/scale-to-width-down/177?cb=20200408114858\" decoding=\"async\" height=\"250\" src=\"data:image/gif;base64,R0lGODlhAQABAIABAAAAAP///yH5BAEAAAEALAAAAAABAAEAQAICTAEAOw%3D%3D\" width=\"177\"/></a></div><a href=\"/wiki/Wanwan\" title=\"Wanwan\">Wanwan</a>\n",
              " </div>, <div class=\"ml hero-box-mini\">\n",
              " <div class=\"ml-img ml-round hero-img {{#switch: border-blue-alt _link _md _resize\"><a href=\"/wiki/Yi_Sun-Shin\" title=\"Yi Sun-Shin\"><img alt=\"Yi Sun-Shin.png\" class=\"lazyload\" data-image-key=\"Yi_Sun-Shin.png\" data-image-name=\"Yi Sun-Shin.png\" data-src=\"https://static.wikia.nocookie.net/mobile-legends/images/f/ff/Yi_Sun-Shin.png/revision/latest/scale-to-width-down/177?cb=20200606110618\" decoding=\"async\" height=\"250\" src=\"data:image/gif;base64,R0lGODlhAQABAIABAAAAAP///yH5BAEAAAEALAAAAAABAAEAQAICTAEAOw%3D%3D\" width=\"177\"/></a></div><a href=\"/wiki/Yi_Sun-Shin\" title=\"Yi Sun-Shin\">Yi Sun-Shin</a>\n",
              " </div>, <div class=\"ml hero-box-mini\">\n",
              " <div class=\"ml-img ml-round hero-img {{#switch: border-blue-alt _link _md _resize\"><a href=\"/wiki/Angela\" title=\"Angela\"><img alt=\"Angela.png\" class=\"lazyload\" data-image-key=\"Angela.png\" data-image-name=\"Angela.png\" data-src=\"https://static.wikia.nocookie.net/mobile-legends/images/f/fd/Angela.png/revision/latest/scale-to-width-down/177?cb=20180820104226\" decoding=\"async\" height=\"250\" src=\"data:image/gif;base64,R0lGODlhAQABAIABAAAAAP///yH5BAEAAAEALAAAAAABAAEAQAICTAEAOw%3D%3D\" width=\"177\"/></a></div><a href=\"/wiki/Angela\" title=\"Angela\">Angela</a>\n",
              " </div>, <div class=\"ml hero-box-mini\">\n",
              " <div class=\"ml-img ml-round hero-img {{#switch: border-blue-alt _link _md _resize\"><a href=\"/wiki/Carmilla\" title=\"Carmilla\"><img alt=\"Carmilla.png\" class=\"lazyload\" data-image-key=\"Carmilla.png\" data-image-name=\"Carmilla.png\" data-src=\"https://static.wikia.nocookie.net/mobile-legends/images/1/1d/Carmilla.png/revision/latest/scale-to-width-down/177?cb=20200414144412\" decoding=\"async\" height=\"250\" src=\"data:image/gif;base64,R0lGODlhAQABAIABAAAAAP///yH5BAEAAAEALAAAAAABAAEAQAICTAEAOw%3D%3D\" width=\"177\"/></a></div><a href=\"/wiki/Carmilla\" title=\"Carmilla\">Carmilla</a>\n",
              " </div>, <div class=\"ml hero-box-mini\">\n",
              " <div class=\"ml-img ml-round hero-img {{#switch: border-blue-alt _link _md _resize\"><a href=\"/wiki/Diggie\" title=\"Diggie\"><img alt=\"Diggie.png\" class=\"lazyload\" data-image-key=\"Diggie.png\" data-image-name=\"Diggie.png\" data-src=\"https://static.wikia.nocookie.net/mobile-legends/images/9/93/Diggie.png/revision/latest/scale-to-width-down/177?cb=20180820104134\" decoding=\"async\" height=\"250\" src=\"data:image/gif;base64,R0lGODlhAQABAIABAAAAAP///yH5BAEAAAEALAAAAAABAAEAQAICTAEAOw%3D%3D\" width=\"177\"/></a></div><a href=\"/wiki/Diggie\" title=\"Diggie\">Diggie</a>\n",
              " </div>, <div class=\"ml hero-box-mini\">\n",
              " <div class=\"ml-img ml-round hero-img {{#switch: border-blue-alt _link _md _resize\"><a href=\"/wiki/Estes\" title=\"Estes\"><img alt=\"Estes.png\" class=\"lazyload\" data-image-key=\"Estes.png\" data-image-name=\"Estes.png\" data-src=\"https://static.wikia.nocookie.net/mobile-legends/images/7/7c/Estes.png/revision/latest/scale-to-width-down/177?cb=20190307090524\" decoding=\"async\" height=\"250\" src=\"data:image/gif;base64,R0lGODlhAQABAIABAAAAAP///yH5BAEAAAEALAAAAAABAAEAQAICTAEAOw%3D%3D\" width=\"177\"/></a></div><a href=\"/wiki/Estes\" title=\"Estes\">Estes</a>\n",
              " </div>, <div class=\"ml hero-box-mini\">\n",
              " <div class=\"ml-img ml-round hero-img {{#switch: border-blue-alt _link _md _resize\"><a href=\"/wiki/Faramis\" title=\"Faramis\"><img alt=\"Faramis.png\" class=\"lazyload\" data-image-key=\"Faramis.png\" data-image-name=\"Faramis.png\" data-src=\"https://static.wikia.nocookie.net/mobile-legends/images/7/72/Faramis.png/revision/latest/scale-to-width-down/177?cb=20190104071559\" decoding=\"async\" height=\"250\" src=\"data:image/gif;base64,R0lGODlhAQABAIABAAAAAP///yH5BAEAAAEALAAAAAABAAEAQAICTAEAOw%3D%3D\" width=\"177\"/></a></div><a href=\"/wiki/Faramis\" title=\"Faramis\">Faramis</a>\n",
              " </div>, <div class=\"ml hero-box-mini\">\n",
              " <div class=\"ml-img ml-round hero-img {{#switch: border-blue-alt _link _md _resize\"><a href=\"/wiki/Kaja\" title=\"Kaja\"><img alt=\"Kaja.png\" class=\"lazyload\" data-image-key=\"Kaja.png\" data-image-name=\"Kaja.png\" data-src=\"https://static.wikia.nocookie.net/mobile-legends/images/1/16/Kaja.png/revision/latest/scale-to-width-down/177?cb=20190615171034\" decoding=\"async\" height=\"250\" src=\"data:image/gif;base64,R0lGODlhAQABAIABAAAAAP///yH5BAEAAAEALAAAAAABAAEAQAICTAEAOw%3D%3D\" width=\"177\"/></a></div><a href=\"/wiki/Kaja\" title=\"Kaja\">Kaja</a>\n",
              " </div>, <div class=\"ml hero-box-mini\">\n",
              " <div class=\"ml-img ml-round hero-img {{#switch: border-blue-alt _link _md _resize\"><a href=\"/wiki/Lolita\" title=\"Lolita\"><img alt=\"Lolita.png\" class=\"lazyload\" data-image-key=\"Lolita.png\" data-image-name=\"Lolita.png\" data-src=\"https://static.wikia.nocookie.net/mobile-legends/images/2/22/Lolita.png/revision/latest/scale-to-width-down/177?cb=20180820100939\" decoding=\"async\" height=\"250\" src=\"data:image/gif;base64,R0lGODlhAQABAIABAAAAAP///yH5BAEAAAEALAAAAAABAAEAQAICTAEAOw%3D%3D\" width=\"177\"/></a></div><a href=\"/wiki/Lolita\" title=\"Lolita\">Lolita</a>\n",
              " </div>, <div class=\"ml hero-box-mini\">\n",
              " <div class=\"ml-img ml-round hero-img {{#switch: border-blue-alt _link _md _resize\"><a href=\"/wiki/Mathilda\" title=\"Mathilda\"><img alt=\"Mathilda.png\" class=\"lazyload\" data-image-key=\"Mathilda.png\" data-image-name=\"Mathilda.png\" data-src=\"https://static.wikia.nocookie.net/mobile-legends/images/9/95/Mathilda.png/revision/latest/scale-to-width-down/177?cb=20200917133435\" decoding=\"async\" height=\"250\" src=\"data:image/gif;base64,R0lGODlhAQABAIABAAAAAP///yH5BAEAAAEALAAAAAABAAEAQAICTAEAOw%3D%3D\" width=\"177\"/></a></div><a href=\"/wiki/Mathilda\" title=\"Mathilda\">Mathilda</a>\n",
              " </div>, <div class=\"ml hero-box-mini\">\n",
              " <div class=\"ml-img ml-round hero-img {{#switch: border-blue-alt _link _md _resize\"><a href=\"/wiki/Minotaur\" title=\"Minotaur\"><img alt=\"Minotaur.png\" class=\"lazyload\" data-image-key=\"Minotaur.png\" data-image-name=\"Minotaur.png\" data-src=\"https://static.wikia.nocookie.net/mobile-legends/images/7/7e/Minotaur.png/revision/latest/scale-to-width-down/177?cb=20200718100028\" decoding=\"async\" height=\"250\" src=\"data:image/gif;base64,R0lGODlhAQABAIABAAAAAP///yH5BAEAAAEALAAAAAABAAEAQAICTAEAOw%3D%3D\" width=\"177\"/></a></div><a href=\"/wiki/Minotaur\" title=\"Minotaur\">Minotaur</a>\n",
              " </div>, <div class=\"ml hero-box-mini\">\n",
              " <div class=\"ml-img ml-round hero-img {{#switch: border-blue-alt _link _md _resize\"><a href=\"/wiki/Nana\" title=\"Nana\"><img alt=\"Nana.png\" class=\"lazyload\" data-image-key=\"Nana.png\" data-image-name=\"Nana.png\" data-src=\"https://static.wikia.nocookie.net/mobile-legends/images/3/38/Nana.png/revision/latest/scale-to-width-down/177?cb=20190116120936\" decoding=\"async\" height=\"250\" src=\"data:image/gif;base64,R0lGODlhAQABAIABAAAAAP///yH5BAEAAAEALAAAAAABAAEAQAICTAEAOw%3D%3D\" width=\"177\"/></a></div><a href=\"/wiki/Nana\" title=\"Nana\">Nana</a>\n",
              " </div>, <div class=\"ml hero-box-mini\">\n",
              " <div class=\"ml-img ml-round hero-img {{#switch: border-blue-alt _link _md _resize\"><a href=\"/wiki/Rafaela\" title=\"Rafaela\"><img alt=\"Rafaela.png\" class=\"lazyload\" data-image-key=\"Rafaela.png\" data-image-name=\"Rafaela.png\" data-src=\"https://static.wikia.nocookie.net/mobile-legends/images/8/87/Rafaela.png/revision/latest/scale-to-width-down/177?cb=20200530115458\" decoding=\"async\" height=\"250\" src=\"data:image/gif;base64,R0lGODlhAQABAIABAAAAAP///yH5BAEAAAEALAAAAAABAAEAQAICTAEAOw%3D%3D\" width=\"177\"/></a></div><a href=\"/wiki/Rafaela\" title=\"Rafaela\">Rafaela</a>\n",
              " </div>]"
            ]
          },
          "metadata": {
            "tags": []
          },
          "execution_count": 95
        }
      ]
    },
    {
      "cell_type": "code",
      "metadata": {
        "colab": {
          "base_uri": "https://localhost:8080/"
        },
        "id": "G-QZ7Zv7GSwC",
        "outputId": "8dc24f11-5980-49e9-eb6a-df66c4a00bf1"
      },
      "source": [
        "akai = [hero[0].text.strip()]\r\n",
        "akai"
      ],
      "execution_count": 104,
      "outputs": [
        {
          "output_type": "execute_result",
          "data": {
            "text/plain": [
              "['Akai']"
            ]
          },
          "metadata": {
            "tags": []
          },
          "execution_count": 104
        }
      ]
    },
    {
      "cell_type": "code",
      "metadata": {
        "colab": {
          "base_uri": "https://localhost:8080/"
        },
        "id": "J_TYM6ouOmq3",
        "outputId": "0513d418-160f-4378-8a99-affc45e5e2e5"
      },
      "source": [
        "type(akai)"
      ],
      "execution_count": 105,
      "outputs": [
        {
          "output_type": "execute_result",
          "data": {
            "text/plain": [
              "list"
            ]
          },
          "metadata": {
            "tags": []
          },
          "execution_count": 105
        }
      ]
    },
    {
      "cell_type": "code",
      "metadata": {
        "colab": {
          "base_uri": "https://localhost:8080/"
        },
        "id": "GmIOx5aeXJmx",
        "outputId": "f4d18141-eaec-4f4a-b341-dca83a72c8f4"
      },
      "source": [
        "masuk = []\r\n",
        "for i in hero:\r\n",
        "  b = i.text.strip()\r\n",
        "  masuk.append(b)\r\n",
        "\r\n",
        "print(masuk)"
      ],
      "execution_count": 128,
      "outputs": [
        {
          "output_type": "stream",
          "text": [
            "['Akai', 'Alice', 'Atlas', 'Barats', 'Baxia', 'Belerick', 'Esmeralda', 'Franco', 'Gatotkaca', 'Grock', 'Hilda', 'Hylos', 'Johnson', 'Khufra', 'Lolita', 'Minotaur', 'Ruby', 'Tigreal', 'Uranus', 'Aldous', 'Alpha', 'Alucard', 'Argus', 'Badang', 'Balmond', 'Bane', 'Barats', 'Chou', 'Dyrroth', 'Freya', 'Gatotkaca', 'Guinevere', 'Hilda', 'Jawhead', 'Kaja', 'Khaleed', 'Lapu-Lapu', 'Leomord', 'Martis', 'Masha', 'Minsitthar', 'Roger', 'Ruby', 'Silvanna', 'Sun', 'Thamuz', 'Terizla', 'X.Borg', 'Yu Zhong', 'Zilong', 'Alucard', 'Benedetta', 'Fanny', 'Gusion', 'Hanzo', 'Harley', 'Hayabusa', 'Helcurt', 'Kadita', 'Karina', 'Lancelot', 'Lesley', 'Ling', 'Mathilda', 'Natalia', 'Saber', 'Selena', 'Yi Sun-Shin', 'Zilong', 'Alice', 'Aurora', 'Cecilion', \"Chang'e\", 'Cyclops', 'Esmeralda', 'Eudora', 'Faramis', 'Gord', 'Harith', 'Harley', 'Kadita', 'Kagura', 'Kimmy', 'Lunox', 'Luo Yi', 'Lylia', 'Nana', 'Odette', 'Pharsa', 'Selena', 'Vale', 'Valir', 'Vexana', 'Yve', 'Zhask', 'Brody', 'Bruno', 'Claude', 'Clint', 'Granger', 'Hanabi', 'Irithel', 'Karrie', 'Kimmy', 'Layla', 'Lesley', 'Miya', 'Moskov', 'Popol and Kupa', 'Roger', 'Wanwan', 'Yi Sun-Shin', 'Angela', 'Carmilla', 'Diggie', 'Estes', 'Faramis', 'Kaja', 'Lolita', 'Mathilda', 'Minotaur', 'Nana', 'Rafaela']\n"
          ],
          "name": "stdout"
        }
      ]
    },
    {
      "cell_type": "code",
      "metadata": {
        "id": "kbPvEpQ6ftTk"
      },
      "source": [
        ""
      ],
      "execution_count": null,
      "outputs": []
    }
  ]
}